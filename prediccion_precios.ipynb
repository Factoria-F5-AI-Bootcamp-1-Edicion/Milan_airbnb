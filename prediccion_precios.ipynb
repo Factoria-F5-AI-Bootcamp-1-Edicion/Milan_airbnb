{
 "cells": [
  {
   "cell_type": "code",
   "execution_count": 2,
   "id": "e6297ad0",
   "metadata": {},
   "outputs": [],
   "source": [
    "import pandas as pd\n",
    "import numpy as np\n",
    "import matplotlib.pyplot as plt\n",
    "import seaborn as sns\n",
    "i"
   ]
  },
  {
   "cell_type": "code",
   "execution_count": 21,
   "id": "ab63d6ff",
   "metadata": {},
   "outputs": [],
   "source": [
    "df = pd.read_csv(\"milan_airbnb.csv\")"
   ]
  },
  {
   "cell_type": "code",
   "execution_count": 4,
   "id": "489731cc",
   "metadata": {},
   "outputs": [
    {
     "data": {
      "text/html": [
       "<div>\n",
       "<style scoped>\n",
       "    .dataframe tbody tr th:only-of-type {\n",
       "        vertical-align: middle;\n",
       "    }\n",
       "\n",
       "    .dataframe tbody tr th {\n",
       "        vertical-align: top;\n",
       "    }\n",
       "\n",
       "    .dataframe thead th {\n",
       "        text-align: right;\n",
       "    }\n",
       "</style>\n",
       "<table border=\"1\" class=\"dataframe\">\n",
       "  <thead>\n",
       "    <tr style=\"text-align: right;\">\n",
       "      <th></th>\n",
       "      <th>id</th>\n",
       "      <th>host_id</th>\n",
       "      <th>latitude</th>\n",
       "      <th>longitude</th>\n",
       "      <th>price</th>\n",
       "      <th>minimum_nights</th>\n",
       "      <th>number_of_reviews</th>\n",
       "      <th>reviews_per_month</th>\n",
       "      <th>calculated_host_listings_count</th>\n",
       "      <th>availability_365</th>\n",
       "    </tr>\n",
       "  </thead>\n",
       "  <tbody>\n",
       "    <tr>\n",
       "      <th>count</th>\n",
       "      <td>1.832200e+04</td>\n",
       "      <td>1.832200e+04</td>\n",
       "      <td>18322.000000</td>\n",
       "      <td>18322.000000</td>\n",
       "      <td>18322.000000</td>\n",
       "      <td>18322.000000</td>\n",
       "      <td>18322.000000</td>\n",
       "      <td>13260.000000</td>\n",
       "      <td>18322.000000</td>\n",
       "      <td>18322.000000</td>\n",
       "    </tr>\n",
       "    <tr>\n",
       "      <th>mean</th>\n",
       "      <td>2.587132e+07</td>\n",
       "      <td>8.494918e+07</td>\n",
       "      <td>45.471318</td>\n",
       "      <td>9.187382</td>\n",
       "      <td>115.094913</td>\n",
       "      <td>5.798112</td>\n",
       "      <td>23.720827</td>\n",
       "      <td>0.799344</td>\n",
       "      <td>14.421897</td>\n",
       "      <td>153.508624</td>\n",
       "    </tr>\n",
       "    <tr>\n",
       "      <th>std</th>\n",
       "      <td>1.525744e+07</td>\n",
       "      <td>1.040579e+08</td>\n",
       "      <td>0.020731</td>\n",
       "      <td>0.029543</td>\n",
       "      <td>290.793019</td>\n",
       "      <td>26.687720</td>\n",
       "      <td>57.657486</td>\n",
       "      <td>1.220346</td>\n",
       "      <td>46.295635</td>\n",
       "      <td>138.757302</td>\n",
       "    </tr>\n",
       "    <tr>\n",
       "      <th>min</th>\n",
       "      <td>6.400000e+03</td>\n",
       "      <td>1.944000e+03</td>\n",
       "      <td>45.395050</td>\n",
       "      <td>9.060680</td>\n",
       "      <td>8.000000</td>\n",
       "      <td>1.000000</td>\n",
       "      <td>0.000000</td>\n",
       "      <td>0.010000</td>\n",
       "      <td>1.000000</td>\n",
       "      <td>0.000000</td>\n",
       "    </tr>\n",
       "    <tr>\n",
       "      <th>25%</th>\n",
       "      <td>1.214067e+07</td>\n",
       "      <td>1.243642e+07</td>\n",
       "      <td>45.454462</td>\n",
       "      <td>9.168782</td>\n",
       "      <td>50.000000</td>\n",
       "      <td>1.000000</td>\n",
       "      <td>0.000000</td>\n",
       "      <td>0.100000</td>\n",
       "      <td>1.000000</td>\n",
       "      <td>0.000000</td>\n",
       "    </tr>\n",
       "    <tr>\n",
       "      <th>50%</th>\n",
       "      <td>2.588718e+07</td>\n",
       "      <td>3.141304e+07</td>\n",
       "      <td>45.470875</td>\n",
       "      <td>9.186291</td>\n",
       "      <td>73.500000</td>\n",
       "      <td>2.000000</td>\n",
       "      <td>3.000000</td>\n",
       "      <td>0.310000</td>\n",
       "      <td>1.000000</td>\n",
       "      <td>123.000000</td>\n",
       "    </tr>\n",
       "    <tr>\n",
       "      <th>75%</th>\n",
       "      <td>3.926758e+07</td>\n",
       "      <td>1.335227e+08</td>\n",
       "      <td>45.486850</td>\n",
       "      <td>9.209680</td>\n",
       "      <td>110.000000</td>\n",
       "      <td>3.000000</td>\n",
       "      <td>19.000000</td>\n",
       "      <td>0.990000</td>\n",
       "      <td>4.000000</td>\n",
       "      <td>302.000000</td>\n",
       "    </tr>\n",
       "    <tr>\n",
       "      <th>max</th>\n",
       "      <td>5.095505e+07</td>\n",
       "      <td>4.117208e+08</td>\n",
       "      <td>45.539850</td>\n",
       "      <td>9.275280</td>\n",
       "      <td>11999.000000</td>\n",
       "      <td>1124.000000</td>\n",
       "      <td>896.000000</td>\n",
       "      <td>13.710000</td>\n",
       "      <td>314.000000</td>\n",
       "      <td>365.000000</td>\n",
       "    </tr>\n",
       "  </tbody>\n",
       "</table>\n",
       "</div>"
      ],
      "text/plain": [
       "                 id       host_id      latitude     longitude         price  \\\n",
       "count  1.832200e+04  1.832200e+04  18322.000000  18322.000000  18322.000000   \n",
       "mean   2.587132e+07  8.494918e+07     45.471318      9.187382    115.094913   \n",
       "std    1.525744e+07  1.040579e+08      0.020731      0.029543    290.793019   \n",
       "min    6.400000e+03  1.944000e+03     45.395050      9.060680      8.000000   \n",
       "25%    1.214067e+07  1.243642e+07     45.454462      9.168782     50.000000   \n",
       "50%    2.588718e+07  3.141304e+07     45.470875      9.186291     73.500000   \n",
       "75%    3.926758e+07  1.335227e+08     45.486850      9.209680    110.000000   \n",
       "max    5.095505e+07  4.117208e+08     45.539850      9.275280  11999.000000   \n",
       "\n",
       "       minimum_nights  number_of_reviews  reviews_per_month  \\\n",
       "count    18322.000000       18322.000000       13260.000000   \n",
       "mean         5.798112          23.720827           0.799344   \n",
       "std         26.687720          57.657486           1.220346   \n",
       "min          1.000000           0.000000           0.010000   \n",
       "25%          1.000000           0.000000           0.100000   \n",
       "50%          2.000000           3.000000           0.310000   \n",
       "75%          3.000000          19.000000           0.990000   \n",
       "max       1124.000000         896.000000          13.710000   \n",
       "\n",
       "       calculated_host_listings_count  availability_365  \n",
       "count                    18322.000000      18322.000000  \n",
       "mean                        14.421897        153.508624  \n",
       "std                         46.295635        138.757302  \n",
       "min                          1.000000          0.000000  \n",
       "25%                          1.000000          0.000000  \n",
       "50%                          1.000000        123.000000  \n",
       "75%                          4.000000        302.000000  \n",
       "max                        314.000000        365.000000  "
      ]
     },
     "execution_count": 4,
     "metadata": {},
     "output_type": "execute_result"
    }
   ],
   "source": [
    "df.describe()"
   ]
  },
  {
   "cell_type": "code",
   "execution_count": 6,
   "id": "0bd40d94",
   "metadata": {},
   "outputs": [
    {
     "data": {
      "text/plain": [
       "id                                   0\n",
       "name                                10\n",
       "host_id                              0\n",
       "host_name                          124\n",
       "neighbourhood                        0\n",
       "latitude                             0\n",
       "longitude                            0\n",
       "room_type                            0\n",
       "price                                0\n",
       "minimum_nights                       0\n",
       "number_of_reviews                    0\n",
       "last_review                       5062\n",
       "reviews_per_month                 5062\n",
       "calculated_host_listings_count       0\n",
       "availability_365                     0\n",
       "dtype: int64"
      ]
     },
     "execution_count": 6,
     "metadata": {},
     "output_type": "execute_result"
    }
   ],
   "source": [
    "df.isnull().sum()"
   ]
  },
  {
   "cell_type": "code",
   "execution_count": 22,
   "id": "a1c27af6",
   "metadata": {},
   "outputs": [],
   "source": [
    "df.drop([\"host_id\", \"name\",\"host_name\", \"id\"], axis=1, inplace=True)"
   ]
  },
  {
   "cell_type": "code",
   "execution_count": 13,
   "id": "27bfe256",
   "metadata": {},
   "outputs": [
    {
     "data": {
      "text/html": [
       "<div>\n",
       "<style scoped>\n",
       "    .dataframe tbody tr th:only-of-type {\n",
       "        vertical-align: middle;\n",
       "    }\n",
       "\n",
       "    .dataframe tbody tr th {\n",
       "        vertical-align: top;\n",
       "    }\n",
       "\n",
       "    .dataframe thead th {\n",
       "        text-align: right;\n",
       "    }\n",
       "</style>\n",
       "<table border=\"1\" class=\"dataframe\">\n",
       "  <thead>\n",
       "    <tr style=\"text-align: right;\">\n",
       "      <th></th>\n",
       "      <th>neighbourhood</th>\n",
       "      <th>room_type</th>\n",
       "      <th>price</th>\n",
       "      <th>minimum_nights</th>\n",
       "      <th>number_of_reviews</th>\n",
       "      <th>last_review</th>\n",
       "      <th>reviews_per_month</th>\n",
       "      <th>calculated_host_listings_count</th>\n",
       "      <th>availability_365</th>\n",
       "    </tr>\n",
       "  </thead>\n",
       "  <tbody>\n",
       "    <tr>\n",
       "      <th>0</th>\n",
       "      <td>TIBALDI</td>\n",
       "      <td>Private room</td>\n",
       "      <td>100</td>\n",
       "      <td>4</td>\n",
       "      <td>12</td>\n",
       "      <td>19/04/10</td>\n",
       "      <td>0.14</td>\n",
       "      <td>1</td>\n",
       "      <td>358</td>\n",
       "    </tr>\n",
       "    <tr>\n",
       "      <th>1</th>\n",
       "      <td>NAVIGLI</td>\n",
       "      <td>Entire home/apt</td>\n",
       "      <td>150</td>\n",
       "      <td>1</td>\n",
       "      <td>15</td>\n",
       "      <td>07/09/20</td>\n",
       "      <td>0.21</td>\n",
       "      <td>1</td>\n",
       "      <td>363</td>\n",
       "    </tr>\n",
       "    <tr>\n",
       "      <th>2</th>\n",
       "      <td>SARPI</td>\n",
       "      <td>Private room</td>\n",
       "      <td>180</td>\n",
       "      <td>1</td>\n",
       "      <td>8</td>\n",
       "      <td>22/04/12</td>\n",
       "      <td>0.11</td>\n",
       "      <td>1</td>\n",
       "      <td>365</td>\n",
       "    </tr>\n",
       "    <tr>\n",
       "      <th>3</th>\n",
       "      <td>VIALE MONZA</td>\n",
       "      <td>Entire home/apt</td>\n",
       "      <td>75</td>\n",
       "      <td>2</td>\n",
       "      <td>15</td>\n",
       "      <td>01/07/18</td>\n",
       "      <td>0.23</td>\n",
       "      <td>3</td>\n",
       "      <td>200</td>\n",
       "    </tr>\n",
       "    <tr>\n",
       "      <th>4</th>\n",
       "      <td>VIALE MONZA</td>\n",
       "      <td>Entire home/apt</td>\n",
       "      <td>71</td>\n",
       "      <td>2</td>\n",
       "      <td>29</td>\n",
       "      <td>23/10/16</td>\n",
       "      <td>0.71</td>\n",
       "      <td>3</td>\n",
       "      <td>308</td>\n",
       "    </tr>\n",
       "  </tbody>\n",
       "</table>\n",
       "</div>"
      ],
      "text/plain": [
       "  neighbourhood        room_type  price  minimum_nights  number_of_reviews  \\\n",
       "0       TIBALDI     Private room    100               4                 12   \n",
       "1       NAVIGLI  Entire home/apt    150               1                 15   \n",
       "2         SARPI     Private room    180               1                  8   \n",
       "3   VIALE MONZA  Entire home/apt     75               2                 15   \n",
       "4   VIALE MONZA  Entire home/apt     71               2                 29   \n",
       "\n",
       "  last_review  reviews_per_month  calculated_host_listings_count  \\\n",
       "0    19/04/10               0.14                               1   \n",
       "1    07/09/20               0.21                               1   \n",
       "2    22/04/12               0.11                               1   \n",
       "3    01/07/18               0.23                               3   \n",
       "4    23/10/16               0.71                               3   \n",
       "\n",
       "   availability_365  \n",
       "0               358  \n",
       "1               363  \n",
       "2               365  \n",
       "3               200  \n",
       "4               308  "
      ]
     },
     "execution_count": 13,
     "metadata": {},
     "output_type": "execute_result"
    }
   ],
   "source": [
    "df.head(5)"
   ]
  },
  {
   "cell_type": "code",
   "execution_count": 23,
   "id": "ab4161da",
   "metadata": {},
   "outputs": [],
   "source": [
    "last_review_mode = df[\"last_review\"].mode()[0]\n",
    "df[\"last_review\"].fillna(last_review_mode, inplace=True) "
   ]
  },
  {
   "cell_type": "code",
   "execution_count": 24,
   "id": "f974ab8d",
   "metadata": {},
   "outputs": [],
   "source": [
    "reviews_por_noche_mean = df[\"reviews_per_month\"].mean()\n",
    "df[\"reviews_per_month\"].fillna(reviews_por_noche_mean, inplace=True) "
   ]
  },
  {
   "cell_type": "code",
   "execution_count": 16,
   "id": "b864e020",
   "metadata": {},
   "outputs": [
    {
     "data": {
      "text/plain": [
       "neighbourhood                     0\n",
       "room_type                         0\n",
       "price                             0\n",
       "minimum_nights                    0\n",
       "number_of_reviews                 0\n",
       "last_review                       0\n",
       "reviews_per_month                 0\n",
       "calculated_host_listings_count    0\n",
       "availability_365                  0\n",
       "dtype: int64"
      ]
     },
     "execution_count": 16,
     "metadata": {},
     "output_type": "execute_result"
    }
   ],
   "source": [
    "df.isnull().sum()"
   ]
  },
  {
   "cell_type": "code",
   "execution_count": 25,
   "id": "4a667333",
   "metadata": {},
   "outputs": [],
   "source": [
    "X = df.drop(\"price\", axis=1)\n",
    "y = df[\"price\"]"
   ]
  },
  {
   "cell_type": "code",
   "execution_count": 18,
   "id": "4ca7c7a7",
   "metadata": {},
   "outputs": [
    {
     "data": {
      "text/html": [
       "<div>\n",
       "<style scoped>\n",
       "    .dataframe tbody tr th:only-of-type {\n",
       "        vertical-align: middle;\n",
       "    }\n",
       "\n",
       "    .dataframe tbody tr th {\n",
       "        vertical-align: top;\n",
       "    }\n",
       "\n",
       "    .dataframe thead th {\n",
       "        text-align: right;\n",
       "    }\n",
       "</style>\n",
       "<table border=\"1\" class=\"dataframe\">\n",
       "  <thead>\n",
       "    <tr style=\"text-align: right;\">\n",
       "      <th></th>\n",
       "      <th>neighbourhood</th>\n",
       "      <th>room_type</th>\n",
       "      <th>minimum_nights</th>\n",
       "      <th>number_of_reviews</th>\n",
       "      <th>last_review</th>\n",
       "      <th>reviews_per_month</th>\n",
       "      <th>calculated_host_listings_count</th>\n",
       "      <th>availability_365</th>\n",
       "    </tr>\n",
       "  </thead>\n",
       "  <tbody>\n",
       "    <tr>\n",
       "      <th>0</th>\n",
       "      <td>TIBALDI</td>\n",
       "      <td>Private room</td>\n",
       "      <td>4</td>\n",
       "      <td>12</td>\n",
       "      <td>19/04/10</td>\n",
       "      <td>0.14</td>\n",
       "      <td>1</td>\n",
       "      <td>358</td>\n",
       "    </tr>\n",
       "    <tr>\n",
       "      <th>1</th>\n",
       "      <td>NAVIGLI</td>\n",
       "      <td>Entire home/apt</td>\n",
       "      <td>1</td>\n",
       "      <td>15</td>\n",
       "      <td>07/09/20</td>\n",
       "      <td>0.21</td>\n",
       "      <td>1</td>\n",
       "      <td>363</td>\n",
       "    </tr>\n",
       "    <tr>\n",
       "      <th>2</th>\n",
       "      <td>SARPI</td>\n",
       "      <td>Private room</td>\n",
       "      <td>1</td>\n",
       "      <td>8</td>\n",
       "      <td>22/04/12</td>\n",
       "      <td>0.11</td>\n",
       "      <td>1</td>\n",
       "      <td>365</td>\n",
       "    </tr>\n",
       "    <tr>\n",
       "      <th>3</th>\n",
       "      <td>VIALE MONZA</td>\n",
       "      <td>Entire home/apt</td>\n",
       "      <td>2</td>\n",
       "      <td>15</td>\n",
       "      <td>01/07/18</td>\n",
       "      <td>0.23</td>\n",
       "      <td>3</td>\n",
       "      <td>200</td>\n",
       "    </tr>\n",
       "    <tr>\n",
       "      <th>4</th>\n",
       "      <td>VIALE MONZA</td>\n",
       "      <td>Entire home/apt</td>\n",
       "      <td>2</td>\n",
       "      <td>29</td>\n",
       "      <td>23/10/16</td>\n",
       "      <td>0.71</td>\n",
       "      <td>3</td>\n",
       "      <td>308</td>\n",
       "    </tr>\n",
       "  </tbody>\n",
       "</table>\n",
       "</div>"
      ],
      "text/plain": [
       "  neighbourhood        room_type  minimum_nights  number_of_reviews  \\\n",
       "0       TIBALDI     Private room               4                 12   \n",
       "1       NAVIGLI  Entire home/apt               1                 15   \n",
       "2         SARPI     Private room               1                  8   \n",
       "3   VIALE MONZA  Entire home/apt               2                 15   \n",
       "4   VIALE MONZA  Entire home/apt               2                 29   \n",
       "\n",
       "  last_review  reviews_per_month  calculated_host_listings_count  \\\n",
       "0    19/04/10               0.14                               1   \n",
       "1    07/09/20               0.21                               1   \n",
       "2    22/04/12               0.11                               1   \n",
       "3    01/07/18               0.23                               3   \n",
       "4    23/10/16               0.71                               3   \n",
       "\n",
       "   availability_365  \n",
       "0               358  \n",
       "1               363  \n",
       "2               365  \n",
       "3               200  \n",
       "4               308  "
      ]
     },
     "execution_count": 18,
     "metadata": {},
     "output_type": "execute_result"
    }
   ],
   "source": [
    "X.head()"
   ]
  },
  {
   "cell_type": "code",
   "execution_count": 19,
   "id": "87a24623",
   "metadata": {},
   "outputs": [
    {
     "data": {
      "text/plain": [
       "0    100\n",
       "1    150\n",
       "2    180\n",
       "3     75\n",
       "4     71\n",
       "Name: price, dtype: int64"
      ]
     },
     "execution_count": 19,
     "metadata": {},
     "output_type": "execute_result"
    }
   ],
   "source": [
    "y.head()"
   ]
  },
  {
   "cell_type": "code",
   "execution_count": 26,
   "id": "5ef41bcd",
   "metadata": {},
   "outputs": [],
   "source": [
    "categoricas = [\"neighbourhood\", \"roomtype\", \"last_review\", \"fuelType\"]\n",
    "numericas =[\"minimum_nights\", \"number_of_reviews\", \"latitude\", \"longitude\" \"reviews_per_month\", \"calculated_host_listing_count\", \"availability_365\"]"
   ]
  },
  {
   "cell_type": "code",
   "execution_count": 29,
   "id": "7d65ab06",
   "metadata": {},
   "outputs": [
    {
     "ename": "ModuleNotFoundError",
     "evalue": "No module named 'sklearn'",
     "output_type": "error",
     "traceback": [
      "\u001b[0;31m---------------------------------------------------------------------------\u001b[0m",
      "\u001b[0;31mModuleNotFoundError\u001b[0m                       Traceback (most recent call last)",
      "Input \u001b[0;32mIn [29]\u001b[0m, in \u001b[0;36m<cell line: 1>\u001b[0;34m()\u001b[0m\n\u001b[0;32m----> 1\u001b[0m \u001b[38;5;28;01mfrom\u001b[39;00m \u001b[38;5;21;01msklearn\u001b[39;00m\u001b[38;5;21;01m.\u001b[39;00m\u001b[38;5;21;01mpreprocessing\u001b[39;00m \u001b[38;5;28;01mimport\u001b[39;00m MinMaxScaler, OneHotEncoder\n\u001b[1;32m      2\u001b[0m \u001b[38;5;28;01mfrom\u001b[39;00m \u001b[38;5;21;01msklearn\u001b[39;00m\u001b[38;5;21;01m.\u001b[39;00m\u001b[38;5;21;01mcompose\u001b[39;00m \u001b[38;5;28;01mimport\u001b[39;00m ColumnTransformer\n",
      "\u001b[0;31mModuleNotFoundError\u001b[0m: No module named 'sklearn'"
     ]
    }
   ],
   "source": [
    "from sklearn.preprocessing import MinMaxScaler, OneHotEncoder\n",
    "from sklearn.compose import ColumnTransformer"
   ]
  },
  {
   "cell_type": "code",
   "execution_count": 27,
   "id": "a06f1d03",
   "metadata": {},
   "outputs": [
    {
     "ename": "ModuleNotFoundError",
     "evalue": "No module named 'sklearn'",
     "output_type": "error",
     "traceback": [
      "\u001b[0;31m---------------------------------------------------------------------------\u001b[0m",
      "\u001b[0;31mModuleNotFoundError\u001b[0m                       Traceback (most recent call last)",
      "Input \u001b[0;32mIn [27]\u001b[0m, in \u001b[0;36m<cell line: 1>\u001b[0;34m()\u001b[0m\n\u001b[0;32m----> 1\u001b[0m \u001b[38;5;28;01mfrom\u001b[39;00m \u001b[38;5;21;01msklearn\u001b[39;00m\u001b[38;5;21;01m.\u001b[39;00m\u001b[38;5;21;01mpreprocessing\u001b[39;00m \u001b[38;5;28;01mimport\u001b[39;00m MinMaxScaler, OneHotEncoder\n\u001b[1;32m      2\u001b[0m \u001b[38;5;28;01mfrom\u001b[39;00m \u001b[38;5;21;01msklearn\u001b[39;00m\u001b[38;5;21;01m.\u001b[39;00m\u001b[38;5;21;01mcompose\u001b[39;00m \u001b[38;5;28;01mimport\u001b[39;00m ColumnTransformer\n\u001b[1;32m      3\u001b[0m transformer_numerico \u001b[38;5;241m=\u001b[39m (\u001b[38;5;124m\"\u001b[39m\u001b[38;5;124mtransformer_numerico\u001b[39m\u001b[38;5;124m\"\u001b[39m, MinMaxScaler(), numericas)\n",
      "\u001b[0;31mModuleNotFoundError\u001b[0m: No module named 'sklearn'"
     ]
    }
   ],
   "source": [
    "\n",
    "transformer_numerico = (\"transformer_numerico\", MinMaxScaler(), numericas)\n",
    "transformer_categorico = (\"transformer_categorico\", OneHotEncoder(), categoricas)\n",
    "\n",
    "transformer = ColumnTransformer([transformer_numerico, transformer_categorico], remainder=\"passthrough\")"
   ]
  },
  {
   "cell_type": "code",
   "execution_count": null,
   "id": "7d8c6cbb",
   "metadata": {},
   "outputs": [],
   "source": []
  }
 ],
 "metadata": {
  "kernelspec": {
   "display_name": "Python 3 (ipykernel)",
   "language": "python",
   "name": "python3"
  },
  "language_info": {
   "codemirror_mode": {
    "name": "ipython",
    "version": 3
   },
   "file_extension": ".py",
   "mimetype": "text/x-python",
   "name": "python",
   "nbconvert_exporter": "python",
   "pygments_lexer": "ipython3",
   "version": "3.9.12"
  }
 },
 "nbformat": 4,
 "nbformat_minor": 5
}
