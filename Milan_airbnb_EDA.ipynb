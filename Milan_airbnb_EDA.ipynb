{
 "cells": [
  {
   "cell_type": "markdown",
   "id": "49a609f3",
   "metadata": {},
   "source": [
    "<h1>MILAN_AIRBNB DATASET EDA</h1>\n",
    "\n",
    "<h6>Este cuaderno es un ejemplo de análisis exploratorio de datos (EDA por sus siglas en inglés) ejecutado sobre el dataset MILAN_AIRBNB donde se recogen datos de las viviendas en alquiler de la ciudad Milán a través de la plataforma AIRBNB\n",
    "\n",
    "El ejercicio consiste en plotear gráficas interesantes buscando patrones relevantes que pudieran ser útiles en la predicción de alquileres de viviendas con fines vacacionales</h6>\n",
    "\n"
   ]
  },
  {
   "cell_type": "code",
   "execution_count": 1,
   "id": "e0e9d603",
   "metadata": {},
   "outputs": [],
   "source": [
    "#LINEA DE IMPORTACION DE LIBRERIAS"
   ]
  },
  {
   "cell_type": "code",
   "execution_count": 2,
   "id": "11f0f5ef",
   "metadata": {},
   "outputs": [],
   "source": [
    "# Librerías estándar de análisis de datos\n",
    "import numpy as np\n",
    "import pandas as pd\n",
    "\n",
    "# Librerías de visualización\n",
    "import matplotlib.pyplot as plt\n",
    "import seaborn as sns\n",
    "\n",
    "%matplotlib inline\n",
    "%reload_ext autoreload\n",
    "%autoreload 2\n"
   ]
  },
  {
   "cell_type": "markdown",
   "id": "9641174c",
   "metadata": {},
   "source": [
    "<h2>Exploración básica del dataset</h2>\n",
    "\n",
    "Estas son las variables por entrada que contiene este dataset:\n",
    "\n",
    "<ul>\n",
    "    <li><b>id =</b>Identificación de la vivienda </li>\n",
    "    <li><b>name =</b>Nombre de la vivienda y descripción </li>\n",
    "     <li><b>host_id =</b>id del anfitrión </li>\n",
    "      <li><b>host_name =</b>Nombre del anfitrión </li>\n",
    "    <li><b>neighbourhood =</b>Nombre del barrio </li>\n",
    "    <li><b>Latitude =</b>Cordenada de latitud de la vivienda </li>\n",
    "     <li><b>Longitude =</b>Cordenada de longitud de la vivienda </li>\n",
    "     <li><b>Room_type =</b>Tipo de vivienda </li>\n",
    "     <li><b>Price =</b>Precio por noche de la vivienda </li>\n",
    "     <li><b>minimum_nights =</b>Estadía mínima de la vivienda  </li>\n",
    "    <li><b>number_of_reviews=</b>Número de reseñas  </li>\n",
    "     <li><b>last_of_reviews=</b>Fecha de última reseña </li>\n",
    "    <li><b>reviews_per_month=</b> Reseñas por mes</li>\n",
    "    <li><b>calculated_host_listings_count=</b>Número de hospedados</li>\n",
    "    <li><b>availability_365=</b> Días disponibles al año</li>\n",
    "</ul>\n",
    "\n",
    " \n",
    "\n"
   ]
  },
  {
   "cell_type": "code",
   "execution_count": 3,
   "id": "2e72f267",
   "metadata": {
    "scrolled": true
   },
   "outputs": [
    {
     "data": {
      "text/html": [
       "<div>\n",
       "<style scoped>\n",
       "    .dataframe tbody tr th:only-of-type {\n",
       "        vertical-align: middle;\n",
       "    }\n",
       "\n",
       "    .dataframe tbody tr th {\n",
       "        vertical-align: top;\n",
       "    }\n",
       "\n",
       "    .dataframe thead th {\n",
       "        text-align: right;\n",
       "    }\n",
       "</style>\n",
       "<table border=\"1\" class=\"dataframe\">\n",
       "  <thead>\n",
       "    <tr style=\"text-align: right;\">\n",
       "      <th></th>\n",
       "      <th>name</th>\n",
       "      <th>host_id</th>\n",
       "      <th>host_name</th>\n",
       "      <th>neighbourhood</th>\n",
       "      <th>latitude</th>\n",
       "      <th>longitude</th>\n",
       "      <th>room_type</th>\n",
       "      <th>price</th>\n",
       "      <th>minimum_nights</th>\n",
       "      <th>number_of_reviews</th>\n",
       "      <th>last_review</th>\n",
       "      <th>reviews_per_month</th>\n",
       "      <th>calculated_host_listings_count</th>\n",
       "      <th>availability_365</th>\n",
       "    </tr>\n",
       "    <tr>\n",
       "      <th>id</th>\n",
       "      <th></th>\n",
       "      <th></th>\n",
       "      <th></th>\n",
       "      <th></th>\n",
       "      <th></th>\n",
       "      <th></th>\n",
       "      <th></th>\n",
       "      <th></th>\n",
       "      <th></th>\n",
       "      <th></th>\n",
       "      <th></th>\n",
       "      <th></th>\n",
       "      <th></th>\n",
       "      <th></th>\n",
       "    </tr>\n",
       "  </thead>\n",
       "  <tbody>\n",
       "    <tr>\n",
       "      <th>6400</th>\n",
       "      <td>The Studio Milan</td>\n",
       "      <td>13822</td>\n",
       "      <td>Francesca</td>\n",
       "      <td>TIBALDI</td>\n",
       "      <td>45.44119</td>\n",
       "      <td>9.17813</td>\n",
       "      <td>Private room</td>\n",
       "      <td>100</td>\n",
       "      <td>4</td>\n",
       "      <td>12</td>\n",
       "      <td>19/04/10</td>\n",
       "      <td>0.14</td>\n",
       "      <td>1</td>\n",
       "      <td>358</td>\n",
       "    </tr>\n",
       "    <tr>\n",
       "      <th>23986</th>\n",
       "      <td>\" Characteristic Milanese flat\"</td>\n",
       "      <td>95941</td>\n",
       "      <td>Jeremy</td>\n",
       "      <td>NAVIGLI</td>\n",
       "      <td>45.44806</td>\n",
       "      <td>9.17373</td>\n",
       "      <td>Entire home/apt</td>\n",
       "      <td>150</td>\n",
       "      <td>1</td>\n",
       "      <td>15</td>\n",
       "      <td>07/09/20</td>\n",
       "      <td>0.21</td>\n",
       "      <td>1</td>\n",
       "      <td>363</td>\n",
       "    </tr>\n",
       "    <tr>\n",
       "      <th>28300</th>\n",
       "      <td>nice flat near the park</td>\n",
       "      <td>121663</td>\n",
       "      <td>Marta</td>\n",
       "      <td>SARPI</td>\n",
       "      <td>45.47647</td>\n",
       "      <td>9.17359</td>\n",
       "      <td>Private room</td>\n",
       "      <td>180</td>\n",
       "      <td>1</td>\n",
       "      <td>8</td>\n",
       "      <td>22/04/12</td>\n",
       "      <td>0.11</td>\n",
       "      <td>1</td>\n",
       "      <td>365</td>\n",
       "    </tr>\n",
       "    <tr>\n",
       "      <th>32119</th>\n",
       "      <td>Nico &amp; Cynthia's Easy Yellow Suite</td>\n",
       "      <td>138683</td>\n",
       "      <td>Nico&amp;Cinzia</td>\n",
       "      <td>VIALE MONZA</td>\n",
       "      <td>45.52014</td>\n",
       "      <td>9.22300</td>\n",
       "      <td>Entire home/apt</td>\n",
       "      <td>75</td>\n",
       "      <td>2</td>\n",
       "      <td>15</td>\n",
       "      <td>01/07/18</td>\n",
       "      <td>0.23</td>\n",
       "      <td>3</td>\n",
       "      <td>200</td>\n",
       "    </tr>\n",
       "    <tr>\n",
       "      <th>32649</th>\n",
       "      <td>Nico&amp;Cinzia's Red Easy Suite!</td>\n",
       "      <td>138683</td>\n",
       "      <td>Nico&amp;Cinzia</td>\n",
       "      <td>VIALE MONZA</td>\n",
       "      <td>45.51874</td>\n",
       "      <td>9.22495</td>\n",
       "      <td>Entire home/apt</td>\n",
       "      <td>71</td>\n",
       "      <td>2</td>\n",
       "      <td>29</td>\n",
       "      <td>23/10/16</td>\n",
       "      <td>0.71</td>\n",
       "      <td>3</td>\n",
       "      <td>308</td>\n",
       "    </tr>\n",
       "  </tbody>\n",
       "</table>\n",
       "</div>"
      ],
      "text/plain": [
       "                                     name  host_id    host_name neighbourhood  \\\n",
       "id                                                                              \n",
       "6400                     The Studio Milan    13822    Francesca       TIBALDI   \n",
       "23986     \" Characteristic Milanese flat\"    95941       Jeremy       NAVIGLI   \n",
       "28300             nice flat near the park   121663        Marta         SARPI   \n",
       "32119  Nico & Cynthia's Easy Yellow Suite   138683  Nico&Cinzia   VIALE MONZA   \n",
       "32649       Nico&Cinzia's Red Easy Suite!   138683  Nico&Cinzia   VIALE MONZA   \n",
       "\n",
       "       latitude  longitude        room_type  price  minimum_nights  \\\n",
       "id                                                                   \n",
       "6400   45.44119    9.17813     Private room    100               4   \n",
       "23986  45.44806    9.17373  Entire home/apt    150               1   \n",
       "28300  45.47647    9.17359     Private room    180               1   \n",
       "32119  45.52014    9.22300  Entire home/apt     75               2   \n",
       "32649  45.51874    9.22495  Entire home/apt     71               2   \n",
       "\n",
       "       number_of_reviews last_review  reviews_per_month  \\\n",
       "id                                                        \n",
       "6400                  12    19/04/10               0.14   \n",
       "23986                 15    07/09/20               0.21   \n",
       "28300                  8    22/04/12               0.11   \n",
       "32119                 15    01/07/18               0.23   \n",
       "32649                 29    23/10/16               0.71   \n",
       "\n",
       "       calculated_host_listings_count  availability_365  \n",
       "id                                                       \n",
       "6400                                1               358  \n",
       "23986                               1               363  \n",
       "28300                               1               365  \n",
       "32119                               3               200  \n",
       "32649                               3               308  "
      ]
     },
     "execution_count": 3,
     "metadata": {},
     "output_type": "execute_result"
    }
   ],
   "source": [
    "# Ruta del archivo csv. Almacenar nombre de ruta en una variable\n",
    "path_data=\"milan_airbnb.csv\"\n",
    "#Importar DataSet y comprobar que esta correcto\n",
    "df = pd.read_csv(path_data, index_col= \"id\")\n",
    "df.head()"
   ]
  },
  {
   "cell_type": "code",
   "execution_count": 7,
   "id": "6f6fe1dd",
   "metadata": {},
   "outputs": [
    {
     "data": {
      "text/plain": [
       "<AxesSubplot:xlabel='price', ylabel='Count'>"
      ]
     },
     "execution_count": 7,
     "metadata": {},
     "output_type": "execute_result"
    },
    {
     "data": {
      "image/png": "[encoded data removed]",
      "text/plain": [
       "<Figure size 432x288 with 1 Axes>"
      ]
     },
     "metadata": {
      "needs_background": "light"
     },
     "output_type": "display_data"
    }
   ],
   "source": [
    "\n",
    "sns.histplot(data=df, x=\"price\", kde=True)\n"
   ]
  },
  {
   "cell_type": "code",
   "execution_count": 8,
   "id": "0dbf711a",
   "metadata": {
    "scrolled": true
   },
   "outputs": [
    {
     "name": "stdout",
     "output_type": "stream",
     "text": [
      "<class 'pandas.core.frame.DataFrame'>\n",
      "Int64Index: 18322 entries, 6400 to 50955051\n",
      "Data columns (total 14 columns):\n",
      " #   Column                          Non-Null Count  Dtype   \n",
      "---  ------                          --------------  -----   \n",
      " 0   name                            18312 non-null  object  \n",
      " 1   host_id                         18322 non-null  int64   \n",
      " 2   host_name                       18198 non-null  object  \n",
      " 3   neighbourhood                   18322 non-null  object  \n",
      " 4   latitude                        18322 non-null  float64 \n",
      " 5   longitude                       18322 non-null  float64 \n",
      " 6   room_type                       18322 non-null  object  \n",
      " 7   price                           18300 non-null  category\n",
      " 8   minimum_nights                  18322 non-null  int64   \n",
      " 9   number_of_reviews               18322 non-null  int64   \n",
      " 10  last_review                     13260 non-null  object  \n",
      " 11  reviews_per_month               13260 non-null  float64 \n",
      " 12  calculated_host_listings_count  18322 non-null  int64   \n",
      " 13  availability_365                18322 non-null  int64   \n",
      "dtypes: category(1), float64(3), int64(5), object(5)\n",
      "memory usage: 2.0+ MB\n"
     ]
    }
   ],
   "source": [
    "#Información del DataSet \n",
    "df.info()"
   ]
  },
  {
   "cell_type": "markdown",
   "id": "39204dbd",
   "metadata": {},
   "source": [
    "<h5>Faltan datos en nombre de vivienda y nombre anfitrión, no siendo relevantes para el estudio, pero donde más datos faltan es en las columnas de last_review y reviews_per_month, aunque a priori no los consideramos que vayan a influir en el modelo </h5>"
   ]
  },
  {
   "cell_type": "code",
   "execution_count": 9,
   "id": "3157a618",
   "metadata": {},
   "outputs": [
    {
     "data": {
      "text/plain": [
       "name                                10\n",
       "host_id                              0\n",
       "host_name                          124\n",
       "neighbourhood                        0\n",
       "latitude                             0\n",
       "longitude                            0\n",
       "room_type                            0\n",
       "price                               22\n",
       "minimum_nights                       0\n",
       "number_of_reviews                    0\n",
       "last_review                       5062\n",
       "reviews_per_month                 5062\n",
       "calculated_host_listings_count       0\n",
       "availability_365                     0\n",
       "dtype: int64"
      ]
     },
     "execution_count": 9,
     "metadata": {},
     "output_type": "execute_result"
    }
   ],
   "source": [
    "# Verificacion de datos faltantes\n",
    "df.isnull().sum(axis = 0)"
   ]
  },
  {
   "cell_type": "markdown",
   "id": "bb8d816c",
   "metadata": {},
   "source": [
    "<h5>Faltan 10 datos en name, 124 en host_name, y , lo mas importante, faltan 5062 en las columnas last_reviews y reviews_per_month</h5>"
   ]
  },
  {
   "cell_type": "code",
   "execution_count": 10,
   "id": "194eb76a",
   "metadata": {},
   "outputs": [
    {
     "data": {
      "text/html": [
       "<div>\n",
       "<style scoped>\n",
       "    .dataframe tbody tr th:only-of-type {\n",
       "        vertical-align: middle;\n",
       "    }\n",
       "\n",
       "    .dataframe tbody tr th {\n",
       "        vertical-align: top;\n",
       "    }\n",
       "\n",
       "    .dataframe thead th {\n",
       "        text-align: right;\n",
       "    }\n",
       "</style>\n",
       "<table border=\"1\" class=\"dataframe\">\n",
       "  <thead>\n",
       "    <tr style=\"text-align: right;\">\n",
       "      <th></th>\n",
       "      <th>host_id</th>\n",
       "      <th>latitude</th>\n",
       "      <th>longitude</th>\n",
       "      <th>minimum_nights</th>\n",
       "      <th>number_of_reviews</th>\n",
       "      <th>reviews_per_month</th>\n",
       "      <th>calculated_host_listings_count</th>\n",
       "      <th>availability_365</th>\n",
       "    </tr>\n",
       "  </thead>\n",
       "  <tbody>\n",
       "    <tr>\n",
       "      <th>count</th>\n",
       "      <td>1.832200e+04</td>\n",
       "      <td>18322.000000</td>\n",
       "      <td>18322.000000</td>\n",
       "      <td>18322.000000</td>\n",
       "      <td>18322.000000</td>\n",
       "      <td>13260.000000</td>\n",
       "      <td>18322.000000</td>\n",
       "      <td>18322.000000</td>\n",
       "    </tr>\n",
       "    <tr>\n",
       "      <th>mean</th>\n",
       "      <td>8.494918e+07</td>\n",
       "      <td>45.471318</td>\n",
       "      <td>9.187382</td>\n",
       "      <td>5.798112</td>\n",
       "      <td>23.720827</td>\n",
       "      <td>0.799344</td>\n",
       "      <td>14.421897</td>\n",
       "      <td>153.508624</td>\n",
       "    </tr>\n",
       "    <tr>\n",
       "      <th>std</th>\n",
       "      <td>1.040579e+08</td>\n",
       "      <td>0.020731</td>\n",
       "      <td>0.029543</td>\n",
       "      <td>26.687720</td>\n",
       "      <td>57.657486</td>\n",
       "      <td>1.220346</td>\n",
       "      <td>46.295635</td>\n",
       "      <td>138.757302</td>\n",
       "    </tr>\n",
       "    <tr>\n",
       "      <th>min</th>\n",
       "      <td>1.944000e+03</td>\n",
       "      <td>45.395050</td>\n",
       "      <td>9.060680</td>\n",
       "      <td>1.000000</td>\n",
       "      <td>0.000000</td>\n",
       "      <td>0.010000</td>\n",
       "      <td>1.000000</td>\n",
       "      <td>0.000000</td>\n",
       "    </tr>\n",
       "    <tr>\n",
       "      <th>25%</th>\n",
       "      <td>1.243642e+07</td>\n",
       "      <td>45.454462</td>\n",
       "      <td>9.168782</td>\n",
       "      <td>1.000000</td>\n",
       "      <td>0.000000</td>\n",
       "      <td>0.100000</td>\n",
       "      <td>1.000000</td>\n",
       "      <td>0.000000</td>\n",
       "    </tr>\n",
       "    <tr>\n",
       "      <th>50%</th>\n",
       "      <td>3.141304e+07</td>\n",
       "      <td>45.470875</td>\n",
       "      <td>9.186291</td>\n",
       "      <td>2.000000</td>\n",
       "      <td>3.000000</td>\n",
       "      <td>0.310000</td>\n",
       "      <td>1.000000</td>\n",
       "      <td>123.000000</td>\n",
       "    </tr>\n",
       "    <tr>\n",
       "      <th>75%</th>\n",
       "      <td>1.335227e+08</td>\n",
       "      <td>45.486850</td>\n",
       "      <td>9.209680</td>\n",
       "      <td>3.000000</td>\n",
       "      <td>19.000000</td>\n",
       "      <td>0.990000</td>\n",
       "      <td>4.000000</td>\n",
       "      <td>302.000000</td>\n",
       "    </tr>\n",
       "    <tr>\n",
       "      <th>max</th>\n",
       "      <td>4.117208e+08</td>\n",
       "      <td>45.539850</td>\n",
       "      <td>9.275280</td>\n",
       "      <td>1124.000000</td>\n",
       "      <td>896.000000</td>\n",
       "      <td>13.710000</td>\n",
       "      <td>314.000000</td>\n",
       "      <td>365.000000</td>\n",
       "    </tr>\n",
       "  </tbody>\n",
       "</table>\n",
       "</div>"
      ],
      "text/plain": [
       "            host_id      latitude     longitude  minimum_nights  \\\n",
       "count  1.832200e+04  18322.000000  18322.000000    18322.000000   \n",
       "mean   8.494918e+07     45.471318      9.187382        5.798112   \n",
       "std    1.040579e+08      0.020731      0.029543       26.687720   \n",
       "min    1.944000e+03     45.395050      9.060680        1.000000   \n",
       "25%    1.243642e+07     45.454462      9.168782        1.000000   \n",
       "50%    3.141304e+07     45.470875      9.186291        2.000000   \n",
       "75%    1.335227e+08     45.486850      9.209680        3.000000   \n",
       "max    4.117208e+08     45.539850      9.275280     1124.000000   \n",
       "\n",
       "       number_of_reviews  reviews_per_month  calculated_host_listings_count  \\\n",
       "count       18322.000000       13260.000000                    18322.000000   \n",
       "mean           23.720827           0.799344                       14.421897   \n",
       "std            57.657486           1.220346                       46.295635   \n",
       "min             0.000000           0.010000                        1.000000   \n",
       "25%             0.000000           0.100000                        1.000000   \n",
       "50%             3.000000           0.310000                        1.000000   \n",
       "75%            19.000000           0.990000                        4.000000   \n",
       "max           896.000000          13.710000                      314.000000   \n",
       "\n",
       "       availability_365  \n",
       "count      18322.000000  \n",
       "mean         153.508624  \n",
       "std          138.757302  \n",
       "min            0.000000  \n",
       "25%            0.000000  \n",
       "50%          123.000000  \n",
       "75%          302.000000  \n",
       "max          365.000000  "
      ]
     },
     "execution_count": 10,
     "metadata": {},
     "output_type": "execute_result"
    }
   ],
   "source": [
    "# Análisis estadístico básico\n",
    "df.describe()"
   ]
  },
  {
   "cell_type": "markdown",
   "id": "bab5585e",
   "metadata": {},
   "source": [
    "Una variable puede ser de dos tipos:\n",
    "* __Categórica__: Es una variable que puede tomar un valor de un conjunto de valores limitados, asociados a una cualidad del dato y sin un orden lógico. Estas a su vez pueden ser:\n",
    "    - __Binarias__: Pueden tomar uno de dos valores. Se suelen denominar clase positiva y clase negativa. Suelen representarse como Verdadero o Falso, y como 0 o 1, pese a lo cual no deben ser confundidas con variables numéricas\n",
    "    - __Politómicas__: Pueden tomar más de dos valores.   \n",
    "* __Numérica__: Son aquellas que vienen representadas por un número, que dependen de un orden lógico y con las que se pueden hacer operaciones aritméticas. A su vez, pueden ser de dos tipos:\n",
    "    - __Continuas__: Entre dos valores dados, podemos encontrar infinitos valores\n",
    "    - __Discretas__: Cuando entre dos valores dados, no puede tomar valores intermedios\n"
   ]
  },
  {
   "cell_type": "markdown",
   "id": "137c5980",
   "metadata": {},
   "source": [
    "<h2>Hipotesis</h2>\n",
    "<ul>\n",
    "    <li> El barrio influye en el precio?</li>\n",
    "    <li> Cuales son los tipos de alojamientos mas alquilados?</li>\n",
    "    <li> El numero de hospedados tiene relacion con el tipo de vivienda?</li>\n",
    "    <li> Cuales son las fechas de mayor alquiler?</li>\n",
    "    <li> Las viviendas mas caras son las que tienen mas reseñas?</li>\n",
    "</ul>"
   ]
  },
  {
   "cell_type": "code",
   "execution_count": 11,
   "id": "ba28580b",
   "metadata": {
    "scrolled": true
   },
   "outputs": [
    {
     "name": "stdout",
     "output_type": "stream",
     "text": [
      "<class 'pandas.core.frame.DataFrame'>\n",
      "Int64Index: 18322 entries, 6400 to 50955051\n",
      "Data columns (total 9 columns):\n",
      " #   Column                          Non-Null Count  Dtype   \n",
      "---  ------                          --------------  -----   \n",
      " 0   neighbourhood                   18322 non-null  object  \n",
      " 1   room_type                       18322 non-null  object  \n",
      " 2   price                           18300 non-null  category\n",
      " 3   minimum_nights                  18322 non-null  int64   \n",
      " 4   number_of_reviews               18322 non-null  int64   \n",
      " 5   last_review                     13260 non-null  object  \n",
      " 6   reviews_per_month               13260 non-null  float64 \n",
      " 7   calculated_host_listings_count  18322 non-null  int64   \n",
      " 8   availability_365                18322 non-null  int64   \n",
      "dtypes: category(1), float64(1), int64(4), object(3)\n",
      "memory usage: 1.3+ MB\n"
     ]
    }
   ],
   "source": [
    "#Prescindimos de estas 5 columnas, por no considerarlas variables que puedan tener algún impacto en nuestra salida\n",
    "df.drop([\"host_id\",\"name\",\"host_name\",\"latitude\",\"longitude\"], axis=1, inplace=True)\n",
    "df.info()"
   ]
  },
  {
   "cell_type": "code",
   "execution_count": 12,
   "id": "eb1b2b23",
   "metadata": {},
   "outputs": [
    {
     "data": {
      "text/html": [
       "<div>\n",
       "<style scoped>\n",
       "    .dataframe tbody tr th:only-of-type {\n",
       "        vertical-align: middle;\n",
       "    }\n",
       "\n",
       "    .dataframe tbody tr th {\n",
       "        vertical-align: top;\n",
       "    }\n",
       "\n",
       "    .dataframe thead th {\n",
       "        text-align: right;\n",
       "    }\n",
       "</style>\n",
       "<table border=\"1\" class=\"dataframe\">\n",
       "  <thead>\n",
       "    <tr style=\"text-align: right;\">\n",
       "      <th></th>\n",
       "      <th>neighbourhood</th>\n",
       "      <th>room_type</th>\n",
       "      <th>price</th>\n",
       "      <th>minimum_nights</th>\n",
       "      <th>number_of_reviews</th>\n",
       "      <th>last_review</th>\n",
       "      <th>reviews_per_month</th>\n",
       "      <th>calculated_host_listings_count</th>\n",
       "      <th>availability_365</th>\n",
       "    </tr>\n",
       "    <tr>\n",
       "      <th>id</th>\n",
       "      <th></th>\n",
       "      <th></th>\n",
       "      <th></th>\n",
       "      <th></th>\n",
       "      <th></th>\n",
       "      <th></th>\n",
       "      <th></th>\n",
       "      <th></th>\n",
       "      <th></th>\n",
       "    </tr>\n",
       "  </thead>\n",
       "  <tbody>\n",
       "    <tr>\n",
       "      <th>6400</th>\n",
       "      <td>TIBALDI</td>\n",
       "      <td>Private room</td>\n",
       "      <td>0-300</td>\n",
       "      <td>4</td>\n",
       "      <td>12</td>\n",
       "      <td>19/04/10</td>\n",
       "      <td>0.14</td>\n",
       "      <td>1</td>\n",
       "      <td>358</td>\n",
       "    </tr>\n",
       "    <tr>\n",
       "      <th>23986</th>\n",
       "      <td>NAVIGLI</td>\n",
       "      <td>Entire home/apt</td>\n",
       "      <td>0-300</td>\n",
       "      <td>1</td>\n",
       "      <td>15</td>\n",
       "      <td>07/09/20</td>\n",
       "      <td>0.21</td>\n",
       "      <td>1</td>\n",
       "      <td>363</td>\n",
       "    </tr>\n",
       "    <tr>\n",
       "      <th>28300</th>\n",
       "      <td>SARPI</td>\n",
       "      <td>Private room</td>\n",
       "      <td>0-300</td>\n",
       "      <td>1</td>\n",
       "      <td>8</td>\n",
       "      <td>22/04/12</td>\n",
       "      <td>0.11</td>\n",
       "      <td>1</td>\n",
       "      <td>365</td>\n",
       "    </tr>\n",
       "    <tr>\n",
       "      <th>32119</th>\n",
       "      <td>VIALE MONZA</td>\n",
       "      <td>Entire home/apt</td>\n",
       "      <td>0-300</td>\n",
       "      <td>2</td>\n",
       "      <td>15</td>\n",
       "      <td>01/07/18</td>\n",
       "      <td>0.23</td>\n",
       "      <td>3</td>\n",
       "      <td>200</td>\n",
       "    </tr>\n",
       "    <tr>\n",
       "      <th>32649</th>\n",
       "      <td>VIALE MONZA</td>\n",
       "      <td>Entire home/apt</td>\n",
       "      <td>0-300</td>\n",
       "      <td>2</td>\n",
       "      <td>29</td>\n",
       "      <td>23/10/16</td>\n",
       "      <td>0.71</td>\n",
       "      <td>3</td>\n",
       "      <td>308</td>\n",
       "    </tr>\n",
       "  </tbody>\n",
       "</table>\n",
       "</div>"
      ],
      "text/plain": [
       "      neighbourhood        room_type  price  minimum_nights  \\\n",
       "id                                                            \n",
       "6400        TIBALDI     Private room  0-300               4   \n",
       "23986       NAVIGLI  Entire home/apt  0-300               1   \n",
       "28300         SARPI     Private room  0-300               1   \n",
       "32119   VIALE MONZA  Entire home/apt  0-300               2   \n",
       "32649   VIALE MONZA  Entire home/apt  0-300               2   \n",
       "\n",
       "       number_of_reviews last_review  reviews_per_month  \\\n",
       "id                                                        \n",
       "6400                  12    19/04/10               0.14   \n",
       "23986                 15    07/09/20               0.21   \n",
       "28300                  8    22/04/12               0.11   \n",
       "32119                 15    01/07/18               0.23   \n",
       "32649                 29    23/10/16               0.71   \n",
       "\n",
       "       calculated_host_listings_count  availability_365  \n",
       "id                                                       \n",
       "6400                                1               358  \n",
       "23986                               1               363  \n",
       "28300                               1               365  \n",
       "32119                               3               200  \n",
       "32649                               3               308  "
      ]
     },
     "execution_count": 12,
     "metadata": {},
     "output_type": "execute_result"
    }
   ],
   "source": [
    "# Ahora nuestro dataset se quedaría con estas 9 columnas\n",
    "df.head()"
   ]
  },
  {
   "cell_type": "code",
   "execution_count": 13,
   "id": "f6d5087b",
   "metadata": {
    "scrolled": true
   },
   "outputs": [],
   "source": [
    "# Clasificamos las columnas segun el tipo de variable\n",
    "numericas = [\"price\",\"minimum_nights\",\"number_of_reviews\",\"reviews_per_month\",\"calculated_host_listings_count\",\"availability_365\"]\n",
    "categoricas =[\"neighbourhood\",\"room_type\",\"last_review\"]"
   ]
  },
  {
   "cell_type": "code",
   "execution_count": 14,
   "id": "4e4f2a8c",
   "metadata": {},
   "outputs": [
    {
     "data": {
      "text/html": [
       "<div>\n",
       "<style scoped>\n",
       "    .dataframe tbody tr th:only-of-type {\n",
       "        vertical-align: middle;\n",
       "    }\n",
       "\n",
       "    .dataframe tbody tr th {\n",
       "        vertical-align: top;\n",
       "    }\n",
       "\n",
       "    .dataframe thead th {\n",
       "        text-align: right;\n",
       "    }\n",
       "</style>\n",
       "<table border=\"1\" class=\"dataframe\">\n",
       "  <thead>\n",
       "    <tr style=\"text-align: right;\">\n",
       "      <th></th>\n",
       "      <th>minimum_nights</th>\n",
       "      <th>number_of_reviews</th>\n",
       "      <th>reviews_per_month</th>\n",
       "      <th>calculated_host_listings_count</th>\n",
       "      <th>availability_365</th>\n",
       "    </tr>\n",
       "  </thead>\n",
       "  <tbody>\n",
       "    <tr>\n",
       "      <th>count</th>\n",
       "      <td>18322.000000</td>\n",
       "      <td>18322.000000</td>\n",
       "      <td>13260.000000</td>\n",
       "      <td>18322.000000</td>\n",
       "      <td>18322.000000</td>\n",
       "    </tr>\n",
       "    <tr>\n",
       "      <th>mean</th>\n",
       "      <td>5.798112</td>\n",
       "      <td>23.720827</td>\n",
       "      <td>0.799344</td>\n",
       "      <td>14.421897</td>\n",
       "      <td>153.508624</td>\n",
       "    </tr>\n",
       "    <tr>\n",
       "      <th>std</th>\n",
       "      <td>26.687720</td>\n",
       "      <td>57.657486</td>\n",
       "      <td>1.220346</td>\n",
       "      <td>46.295635</td>\n",
       "      <td>138.757302</td>\n",
       "    </tr>\n",
       "    <tr>\n",
       "      <th>min</th>\n",
       "      <td>1.000000</td>\n",
       "      <td>0.000000</td>\n",
       "      <td>0.010000</td>\n",
       "      <td>1.000000</td>\n",
       "      <td>0.000000</td>\n",
       "    </tr>\n",
       "    <tr>\n",
       "      <th>25%</th>\n",
       "      <td>1.000000</td>\n",
       "      <td>0.000000</td>\n",
       "      <td>0.100000</td>\n",
       "      <td>1.000000</td>\n",
       "      <td>0.000000</td>\n",
       "    </tr>\n",
       "    <tr>\n",
       "      <th>50%</th>\n",
       "      <td>2.000000</td>\n",
       "      <td>3.000000</td>\n",
       "      <td>0.310000</td>\n",
       "      <td>1.000000</td>\n",
       "      <td>123.000000</td>\n",
       "    </tr>\n",
       "    <tr>\n",
       "      <th>75%</th>\n",
       "      <td>3.000000</td>\n",
       "      <td>19.000000</td>\n",
       "      <td>0.990000</td>\n",
       "      <td>4.000000</td>\n",
       "      <td>302.000000</td>\n",
       "    </tr>\n",
       "    <tr>\n",
       "      <th>max</th>\n",
       "      <td>1124.000000</td>\n",
       "      <td>896.000000</td>\n",
       "      <td>13.710000</td>\n",
       "      <td>314.000000</td>\n",
       "      <td>365.000000</td>\n",
       "    </tr>\n",
       "  </tbody>\n",
       "</table>\n",
       "</div>"
      ],
      "text/plain": [
       "       minimum_nights  number_of_reviews  reviews_per_month  \\\n",
       "count    18322.000000       18322.000000       13260.000000   \n",
       "mean         5.798112          23.720827           0.799344   \n",
       "std         26.687720          57.657486           1.220346   \n",
       "min          1.000000           0.000000           0.010000   \n",
       "25%          1.000000           0.000000           0.100000   \n",
       "50%          2.000000           3.000000           0.310000   \n",
       "75%          3.000000          19.000000           0.990000   \n",
       "max       1124.000000         896.000000          13.710000   \n",
       "\n",
       "       calculated_host_listings_count  availability_365  \n",
       "count                    18322.000000      18322.000000  \n",
       "mean                        14.421897        153.508624  \n",
       "std                         46.295635        138.757302  \n",
       "min                          1.000000          0.000000  \n",
       "25%                          1.000000          0.000000  \n",
       "50%                          1.000000        123.000000  \n",
       "75%                          4.000000        302.000000  \n",
       "max                        314.000000        365.000000  "
      ]
     },
     "execution_count": 14,
     "metadata": {},
     "output_type": "execute_result"
    }
   ],
   "source": [
    "# Analisis estadisticos de variables numericas \n",
    "df[numericas].describe()"
   ]
  },
  {
   "cell_type": "code",
   "execution_count": 15,
   "id": "8c6da750",
   "metadata": {},
   "outputs": [
    {
     "name": "stdout",
     "output_type": "stream",
     "text": [
      "Column name: neighbourhood\n",
      "BUENOS AIRES - VENEZIA    1373\n",
      "DUOMO                     1003\n",
      "NAVIGLI                    875\n",
      "SARPI                      806\n",
      "TICINESE                   749\n",
      "                          ... \n",
      "PARCO BOSCO IN CITT",
      "         4\n",
      "PARCO NORD                   3\n",
      "MUGGIANO                     2\n",
      "QUINTOSOLE                   1\n",
      "CASCINA TRIULZA - EXPO       1\n",
      "Name: neighbourhood, Length: 87, dtype: int64\n",
      "\n",
      "Column name: room_type\n",
      "Entire home/apt    13605\n",
      "Private room        4376\n",
      "Shared room          267\n",
      "Hotel room            74\n",
      "Name: room_type, dtype: int64\n",
      "\n",
      "Column name: last_review\n",
      "14/04/19    218\n",
      "13/04/19    145\n",
      "12/04/19    144\n",
      "22/04/18    136\n",
      "23/02/20    118\n",
      "           ... \n",
      "05/05/16      1\n",
      "23/10/13      1\n",
      "29/11/16      1\n",
      "09/01/19      1\n",
      "19/04/10      1\n",
      "Name: last_review, Length: 2039, dtype: int64\n",
      "\n"
     ]
    }
   ],
   "source": [
    "# Información cuantitativa de variables categóricas\n",
    "for col in categoricas:\n",
    "    print(f\"Column name: {col}\")\n",
    "    print(df[col].value_counts())\n",
    "    print()"
   ]
  },
  {
   "cell_type": "markdown",
   "id": "ed9c5a4f",
   "metadata": {},
   "source": [
    "<h2> GRÁFICOS RELEVANTES</h2>\n",
    "    "
   ]
  },
  {
   "cell_type": "markdown",
   "id": "1d1e81a0",
   "metadata": {},
   "source": [
    "<h4>BARPLOTS</h4>"
   ]
  },
  {
   "cell_type": "code",
   "execution_count": 16,
   "id": "f9e7fd01",
   "metadata": {
    "scrolled": true
   },
   "outputs": [
    {
     "data": {
      "text/plain": [
       "array([[<AxesSubplot:xlabel='minimum_nights', ylabel='minimum_nights'>,\n",
       "        <AxesSubplot:xlabel='number_of_reviews', ylabel='minimum_nights'>,\n",
       "        <AxesSubplot:xlabel='reviews_per_month', ylabel='minimum_nights'>,\n",
       "        <AxesSubplot:xlabel='calculated_host_listings_count', ylabel='minimum_nights'>,\n",
       "        <AxesSubplot:xlabel='availability_365', ylabel='minimum_nights'>],\n",
       "       [<AxesSubplot:xlabel='minimum_nights', ylabel='number_of_reviews'>,\n",
       "        <AxesSubplot:xlabel='number_of_reviews', ylabel='number_of_reviews'>,\n",
       "        <AxesSubplot:xlabel='reviews_per_month', ylabel='number_of_reviews'>,\n",
       "        <AxesSubplot:xlabel='calculated_host_listings_count', ylabel='number_of_reviews'>,\n",
       "        <AxesSubplot:xlabel='availability_365', ylabel='number_of_reviews'>],\n",
       "       [<AxesSubplot:xlabel='minimum_nights', ylabel='reviews_per_month'>,\n",
       "        <AxesSubplot:xlabel='number_of_reviews', ylabel='reviews_per_month'>,\n",
       "        <AxesSubplot:xlabel='reviews_per_month', ylabel='reviews_per_month'>,\n",
       "        <AxesSubplot:xlabel='calculated_host_listings_count', ylabel='reviews_per_month'>,\n",
       "        <AxesSubplot:xlabel='availability_365', ylabel='reviews_per_month'>],\n",
       "       [<AxesSubplot:xlabel='minimum_nights', ylabel='calculated_host_listings_count'>,\n",
       "        <AxesSubplot:xlabel='number_of_reviews', ylabel='calculated_host_listings_count'>,\n",
       "        <AxesSubplot:xlabel='reviews_per_month', ylabel='calculated_host_listings_count'>,\n",
       "        <AxesSubplot:xlabel='calculated_host_listings_count', ylabel='calculated_host_listings_count'>,\n",
       "        <AxesSubplot:xlabel='availability_365', ylabel='calculated_host_listings_count'>],\n",
       "       [<AxesSubplot:xlabel='minimum_nights', ylabel='availability_365'>,\n",
       "        <AxesSubplot:xlabel='number_of_reviews', ylabel='availability_365'>,\n",
       "        <AxesSubplot:xlabel='reviews_per_month', ylabel='availability_365'>,\n",
       "        <AxesSubplot:xlabel='calculated_host_listings_count', ylabel='availability_365'>,\n",
       "        <AxesSubplot:xlabel='availability_365', ylabel='availability_365'>]],\n",
       "      dtype=object)"
      ]
     },
     "execution_count": 16,
     "metadata": {},
     "output_type": "execute_result"
    },
    {
     "data": {
      "image/png": "[encoded data removed]",
      "text/plain": [
       "<Figure size 864x720 with 25 Axes>"
      ]
     },
     "metadata": {
      "needs_background": "light"
     },
     "output_type": "display_data"
    }
   ],
   "source": [
    "pd.plotting.scatter_matrix(df[numericas], figsize=(12,10))"
   ]
  },
  {
   "cell_type": "markdown",
   "id": "eccf9520",
   "metadata": {},
   "source": [
    "<h5> Visualización de variables numericas en las cuales se puede apreciar una gran correlación entre last_reviews y reviews_per_month </h5>"
   ]
  },
  {
   "cell_type": "code",
   "execution_count": 17,
   "id": "82cdbd4b",
   "metadata": {
    "scrolled": true
   },
   "outputs": [
    {
     "ename": "TypeError",
     "evalue": "Neither the `x` nor `y` variable appears to be numeric.",
     "output_type": "error",
     "traceback": [
      "\u001b[1;31m---------------------------------------------------------------------------\u001b[0m",
      "\u001b[1;31mTypeError\u001b[0m                                 Traceback (most recent call last)",
      "Input \u001b[1;32mIn [17]\u001b[0m, in \u001b[0;36m<cell line: 3>\u001b[1;34m()\u001b[0m\n\u001b[0;32m      1\u001b[0m \u001b[38;5;66;03m# Gráfico para comparar los precios de los distintos barrios\u001b[39;00m\n\u001b[0;32m      2\u001b[0m fig, ax \u001b[38;5;241m=\u001b[39m plt\u001b[38;5;241m.\u001b[39msubplots(ncols\u001b[38;5;241m=\u001b[39m\u001b[38;5;241m1\u001b[39m, figsize\u001b[38;5;241m=\u001b[39m(\u001b[38;5;241m18\u001b[39m,\u001b[38;5;241m7\u001b[39m))\n\u001b[1;32m----> 3\u001b[0m \u001b[43msns\u001b[49m\u001b[38;5;241;43m.\u001b[39;49m\u001b[43mboxplot\u001b[49m\u001b[43m(\u001b[49m\u001b[43my\u001b[49m\u001b[38;5;241;43m=\u001b[39;49m\u001b[38;5;124;43m'\u001b[39;49m\u001b[38;5;124;43mprice\u001b[39;49m\u001b[38;5;124;43m'\u001b[39;49m\u001b[43m,\u001b[49m\u001b[43m \u001b[49m\u001b[43mx\u001b[49m\u001b[38;5;241;43m=\u001b[39;49m\u001b[38;5;124;43m'\u001b[39;49m\u001b[38;5;124;43mneighbourhood\u001b[39;49m\u001b[38;5;124;43m'\u001b[39;49m\u001b[43m,\u001b[49m\u001b[43m \u001b[49m\u001b[43mdata\u001b[49m\u001b[38;5;241;43m=\u001b[39;49m\u001b[43mdf\u001b[49m\u001b[43m,\u001b[49m\u001b[43m \u001b[49m\u001b[43max\u001b[49m\u001b[38;5;241;43m=\u001b[39;49m\u001b[43max\u001b[49m\u001b[43m)\u001b[49m\n\u001b[0;32m      4\u001b[0m plt\u001b[38;5;241m.\u001b[39mxticks(rotation\u001b[38;5;241m=\u001b[39m\u001b[38;5;241m90\u001b[39m)\n\u001b[0;32m      5\u001b[0m plt\u001b[38;5;241m.\u001b[39mshow()\n",
      "File \u001b[1;32m~\\miniconda3\\lib\\site-packages\\seaborn\\_decorators.py:46\u001b[0m, in \u001b[0;36m_deprecate_positional_args.<locals>.inner_f\u001b[1;34m(*args, **kwargs)\u001b[0m\n\u001b[0;32m     36\u001b[0m     warnings\u001b[38;5;241m.\u001b[39mwarn(\n\u001b[0;32m     37\u001b[0m         \u001b[38;5;124m\"\u001b[39m\u001b[38;5;124mPass the following variable\u001b[39m\u001b[38;5;132;01m{}\u001b[39;00m\u001b[38;5;124m as \u001b[39m\u001b[38;5;132;01m{}\u001b[39;00m\u001b[38;5;124mkeyword arg\u001b[39m\u001b[38;5;132;01m{}\u001b[39;00m\u001b[38;5;124m: \u001b[39m\u001b[38;5;132;01m{}\u001b[39;00m\u001b[38;5;124m. \u001b[39m\u001b[38;5;124m\"\u001b[39m\n\u001b[0;32m     38\u001b[0m         \u001b[38;5;124m\"\u001b[39m\u001b[38;5;124mFrom version 0.12, the only valid positional argument \u001b[39m\u001b[38;5;124m\"\u001b[39m\n\u001b[1;32m   (...)\u001b[0m\n\u001b[0;32m     43\u001b[0m         \u001b[38;5;167;01mFutureWarning\u001b[39;00m\n\u001b[0;32m     44\u001b[0m     )\n\u001b[0;32m     45\u001b[0m kwargs\u001b[38;5;241m.\u001b[39mupdate({k: arg \u001b[38;5;28;01mfor\u001b[39;00m k, arg \u001b[38;5;129;01min\u001b[39;00m \u001b[38;5;28mzip\u001b[39m(sig\u001b[38;5;241m.\u001b[39mparameters, args)})\n\u001b[1;32m---> 46\u001b[0m \u001b[38;5;28;01mreturn\u001b[39;00m f(\u001b[38;5;241m*\u001b[39m\u001b[38;5;241m*\u001b[39mkwargs)\n",
      "File \u001b[1;32m~\\miniconda3\\lib\\site-packages\\seaborn\\categorical.py:2243\u001b[0m, in \u001b[0;36mboxplot\u001b[1;34m(x, y, hue, data, order, hue_order, orient, color, palette, saturation, width, dodge, fliersize, linewidth, whis, ax, **kwargs)\u001b[0m\n\u001b[0;32m   2231\u001b[0m \u001b[38;5;129m@_deprecate_positional_args\u001b[39m\n\u001b[0;32m   2232\u001b[0m \u001b[38;5;28;01mdef\u001b[39;00m \u001b[38;5;21mboxplot\u001b[39m(\n\u001b[0;32m   2233\u001b[0m     \u001b[38;5;241m*\u001b[39m,\n\u001b[1;32m   (...)\u001b[0m\n\u001b[0;32m   2240\u001b[0m     \u001b[38;5;241m*\u001b[39m\u001b[38;5;241m*\u001b[39mkwargs\n\u001b[0;32m   2241\u001b[0m ):\n\u001b[1;32m-> 2243\u001b[0m     plotter \u001b[38;5;241m=\u001b[39m \u001b[43m_BoxPlotter\u001b[49m\u001b[43m(\u001b[49m\u001b[43mx\u001b[49m\u001b[43m,\u001b[49m\u001b[43m \u001b[49m\u001b[43my\u001b[49m\u001b[43m,\u001b[49m\u001b[43m \u001b[49m\u001b[43mhue\u001b[49m\u001b[43m,\u001b[49m\u001b[43m \u001b[49m\u001b[43mdata\u001b[49m\u001b[43m,\u001b[49m\u001b[43m \u001b[49m\u001b[43morder\u001b[49m\u001b[43m,\u001b[49m\u001b[43m \u001b[49m\u001b[43mhue_order\u001b[49m\u001b[43m,\u001b[49m\n\u001b[0;32m   2244\u001b[0m \u001b[43m                          \u001b[49m\u001b[43morient\u001b[49m\u001b[43m,\u001b[49m\u001b[43m \u001b[49m\u001b[43mcolor\u001b[49m\u001b[43m,\u001b[49m\u001b[43m \u001b[49m\u001b[43mpalette\u001b[49m\u001b[43m,\u001b[49m\u001b[43m \u001b[49m\u001b[43msaturation\u001b[49m\u001b[43m,\u001b[49m\n\u001b[0;32m   2245\u001b[0m \u001b[43m                          \u001b[49m\u001b[43mwidth\u001b[49m\u001b[43m,\u001b[49m\u001b[43m \u001b[49m\u001b[43mdodge\u001b[49m\u001b[43m,\u001b[49m\u001b[43m \u001b[49m\u001b[43mfliersize\u001b[49m\u001b[43m,\u001b[49m\u001b[43m \u001b[49m\u001b[43mlinewidth\u001b[49m\u001b[43m)\u001b[49m\n\u001b[0;32m   2247\u001b[0m     \u001b[38;5;28;01mif\u001b[39;00m ax \u001b[38;5;129;01mis\u001b[39;00m \u001b[38;5;28;01mNone\u001b[39;00m:\n\u001b[0;32m   2248\u001b[0m         ax \u001b[38;5;241m=\u001b[39m plt\u001b[38;5;241m.\u001b[39mgca()\n",
      "File \u001b[1;32m~\\miniconda3\\lib\\site-packages\\seaborn\\categorical.py:406\u001b[0m, in \u001b[0;36m_BoxPlotter.__init__\u001b[1;34m(self, x, y, hue, data, order, hue_order, orient, color, palette, saturation, width, dodge, fliersize, linewidth)\u001b[0m\n\u001b[0;32m    402\u001b[0m \u001b[38;5;28;01mdef\u001b[39;00m \u001b[38;5;21m__init__\u001b[39m(\u001b[38;5;28mself\u001b[39m, x, y, hue, data, order, hue_order,\n\u001b[0;32m    403\u001b[0m              orient, color, palette, saturation,\n\u001b[0;32m    404\u001b[0m              width, dodge, fliersize, linewidth):\n\u001b[1;32m--> 406\u001b[0m     \u001b[38;5;28;43mself\u001b[39;49m\u001b[38;5;241;43m.\u001b[39;49m\u001b[43mestablish_variables\u001b[49m\u001b[43m(\u001b[49m\u001b[43mx\u001b[49m\u001b[43m,\u001b[49m\u001b[43m \u001b[49m\u001b[43my\u001b[49m\u001b[43m,\u001b[49m\u001b[43m \u001b[49m\u001b[43mhue\u001b[49m\u001b[43m,\u001b[49m\u001b[43m \u001b[49m\u001b[43mdata\u001b[49m\u001b[43m,\u001b[49m\u001b[43m \u001b[49m\u001b[43morient\u001b[49m\u001b[43m,\u001b[49m\u001b[43m \u001b[49m\u001b[43morder\u001b[49m\u001b[43m,\u001b[49m\u001b[43m \u001b[49m\u001b[43mhue_order\u001b[49m\u001b[43m)\u001b[49m\n\u001b[0;32m    407\u001b[0m     \u001b[38;5;28mself\u001b[39m\u001b[38;5;241m.\u001b[39mestablish_colors(color, palette, saturation)\n\u001b[0;32m    409\u001b[0m     \u001b[38;5;28mself\u001b[39m\u001b[38;5;241m.\u001b[39mdodge \u001b[38;5;241m=\u001b[39m dodge\n",
      "File \u001b[1;32m~\\miniconda3\\lib\\site-packages\\seaborn\\categorical.py:156\u001b[0m, in \u001b[0;36m_CategoricalPlotter.establish_variables\u001b[1;34m(self, x, y, hue, data, orient, order, hue_order, units)\u001b[0m\n\u001b[0;32m    153\u001b[0m         \u001b[38;5;28;01mraise\u001b[39;00m \u001b[38;5;167;01mValueError\u001b[39;00m(err)\n\u001b[0;32m    155\u001b[0m \u001b[38;5;66;03m# Figure out the plotting orientation\u001b[39;00m\n\u001b[1;32m--> 156\u001b[0m orient \u001b[38;5;241m=\u001b[39m \u001b[43minfer_orient\u001b[49m\u001b[43m(\u001b[49m\n\u001b[0;32m    157\u001b[0m \u001b[43m    \u001b[49m\u001b[43mx\u001b[49m\u001b[43m,\u001b[49m\u001b[43m \u001b[49m\u001b[43my\u001b[49m\u001b[43m,\u001b[49m\u001b[43m \u001b[49m\u001b[43morient\u001b[49m\u001b[43m,\u001b[49m\u001b[43m \u001b[49m\u001b[43mrequire_numeric\u001b[49m\u001b[38;5;241;43m=\u001b[39;49m\u001b[38;5;28;43mself\u001b[39;49m\u001b[38;5;241;43m.\u001b[39;49m\u001b[43mrequire_numeric\u001b[49m\n\u001b[0;32m    158\u001b[0m \u001b[43m\u001b[49m\u001b[43m)\u001b[49m\n\u001b[0;32m    160\u001b[0m \u001b[38;5;66;03m# Option 2a:\u001b[39;00m\n\u001b[0;32m    161\u001b[0m \u001b[38;5;66;03m# We are plotting a single set of data\u001b[39;00m\n\u001b[0;32m    162\u001b[0m \u001b[38;5;66;03m# ------------------------------------\u001b[39;00m\n\u001b[0;32m    163\u001b[0m \u001b[38;5;28;01mif\u001b[39;00m x \u001b[38;5;129;01mis\u001b[39;00m \u001b[38;5;28;01mNone\u001b[39;00m \u001b[38;5;129;01mor\u001b[39;00m y \u001b[38;5;129;01mis\u001b[39;00m \u001b[38;5;28;01mNone\u001b[39;00m:\n\u001b[0;32m    164\u001b[0m \n\u001b[0;32m    165\u001b[0m     \u001b[38;5;66;03m# Determine where the data are\u001b[39;00m\n",
      "File \u001b[1;32m~\\miniconda3\\lib\\site-packages\\seaborn\\_core.py:1352\u001b[0m, in \u001b[0;36minfer_orient\u001b[1;34m(x, y, orient, require_numeric)\u001b[0m\n\u001b[0;32m   1350\u001b[0m \u001b[38;5;28;01melif\u001b[39;00m require_numeric \u001b[38;5;129;01mand\u001b[39;00m \u001b[38;5;124m\"\u001b[39m\u001b[38;5;124mnumeric\u001b[39m\u001b[38;5;124m\"\u001b[39m \u001b[38;5;129;01mnot\u001b[39;00m \u001b[38;5;129;01min\u001b[39;00m (x_type, y_type):\n\u001b[0;32m   1351\u001b[0m     err \u001b[38;5;241m=\u001b[39m \u001b[38;5;124m\"\u001b[39m\u001b[38;5;124mNeither the `x` nor `y` variable appears to be numeric.\u001b[39m\u001b[38;5;124m\"\u001b[39m\n\u001b[1;32m-> 1352\u001b[0m     \u001b[38;5;28;01mraise\u001b[39;00m \u001b[38;5;167;01mTypeError\u001b[39;00m(err)\n\u001b[0;32m   1354\u001b[0m \u001b[38;5;28;01melse\u001b[39;00m:\n\u001b[0;32m   1355\u001b[0m     \u001b[38;5;28;01mreturn\u001b[39;00m \u001b[38;5;124m\"\u001b[39m\u001b[38;5;124mv\u001b[39m\u001b[38;5;124m\"\u001b[39m\n",
      "\u001b[1;31mTypeError\u001b[0m: Neither the `x` nor `y` variable appears to be numeric."
     ]
    },
    {
     "data": {
      "image/png": "[encoded data removed]",
      "text/plain": [
       "<Figure size 1296x504 with 1 Axes>"
      ]
     },
     "metadata": {
      "needs_background": "light"
     },
     "output_type": "display_data"
    }
   ],
   "source": [
    "# Gráfico para comparar los precios de los distintos barrios\n",
    "fig, ax = plt.subplots(ncols=1, figsize=(18,7))\n",
    "sns.boxplot(y='price', x='neighbourhood', data=df, ax=ax)\n",
    "plt.xticks(rotation=90)\n",
    "plt.show()"
   ]
  },
  {
   "cell_type": "markdown",
   "id": "fe092b40",
   "metadata": {},
   "source": [
    "<h5>Como se puede apreciar en la columna de precios, a partir de 2.500 euros aparecen lo que podrían ser outliers. Más adelante nos encargaríamos de ellos </h5>"
   ]
  },
  {
   "cell_type": "code",
   "execution_count": 18,
   "id": "1b71ed80",
   "metadata": {
    "scrolled": true
   },
   "outputs": [
    {
     "ename": "TypeError",
     "evalue": "Invalid comparison between dtype=category and int",
     "output_type": "error",
     "traceback": [
      "\u001b[1;31m---------------------------------------------------------------------------\u001b[0m",
      "\u001b[1;31mTypeError\u001b[0m                                 Traceback (most recent call last)",
      "Input \u001b[1;32mIn [18]\u001b[0m, in \u001b[0;36m<cell line: 3>\u001b[1;34m()\u001b[0m\n\u001b[0;32m      1\u001b[0m \u001b[38;5;66;03m# Partimos de valores menores de 200 euros porque a partie de ahí estaba plagado \u001b[39;00m\n\u001b[0;32m      2\u001b[0m \u001b[38;5;66;03m# de posibles outliers que nos mostraban una gráfica de difícil lectura\u001b[39;00m\n\u001b[1;32m----> 3\u001b[0m sns\u001b[38;5;241m.\u001b[39mhistplot(data\u001b[38;5;241m=\u001b[39mdf[\u001b[43mdf\u001b[49m\u001b[43m[\u001b[49m\u001b[38;5;124;43m\"\u001b[39;49m\u001b[38;5;124;43mprice\u001b[39;49m\u001b[38;5;124;43m\"\u001b[39;49m\u001b[43m]\u001b[49m\u001b[38;5;241;43m<\u001b[39;49m\u001b[43m \u001b[49m\u001b[38;5;241;43m200\u001b[39;49m], x\u001b[38;5;241m=\u001b[39m\u001b[38;5;124m\"\u001b[39m\u001b[38;5;124mprice\u001b[39m\u001b[38;5;124m\"\u001b[39m, kde\u001b[38;5;241m=\u001b[39m\u001b[38;5;28;01mTrue\u001b[39;00m)\n",
      "File \u001b[1;32m~\\miniconda3\\lib\\site-packages\\pandas\\core\\ops\\common.py:70\u001b[0m, in \u001b[0;36m_unpack_zerodim_and_defer.<locals>.new_method\u001b[1;34m(self, other)\u001b[0m\n\u001b[0;32m     66\u001b[0m             \u001b[38;5;28;01mreturn\u001b[39;00m \u001b[38;5;28mNotImplemented\u001b[39m\n\u001b[0;32m     68\u001b[0m other \u001b[38;5;241m=\u001b[39m item_from_zerodim(other)\n\u001b[1;32m---> 70\u001b[0m \u001b[38;5;28;01mreturn\u001b[39;00m \u001b[43mmethod\u001b[49m\u001b[43m(\u001b[49m\u001b[38;5;28;43mself\u001b[39;49m\u001b[43m,\u001b[49m\u001b[43m \u001b[49m\u001b[43mother\u001b[49m\u001b[43m)\u001b[49m\n",
      "File \u001b[1;32m~\\miniconda3\\lib\\site-packages\\pandas\\core\\arraylike.py:48\u001b[0m, in \u001b[0;36mOpsMixin.__lt__\u001b[1;34m(self, other)\u001b[0m\n\u001b[0;32m     46\u001b[0m \u001b[38;5;129m@unpack_zerodim_and_defer\u001b[39m(\u001b[38;5;124m\"\u001b[39m\u001b[38;5;124m__lt__\u001b[39m\u001b[38;5;124m\"\u001b[39m)\n\u001b[0;32m     47\u001b[0m \u001b[38;5;28;01mdef\u001b[39;00m \u001b[38;5;21m__lt__\u001b[39m(\u001b[38;5;28mself\u001b[39m, other):\n\u001b[1;32m---> 48\u001b[0m     \u001b[38;5;28;01mreturn\u001b[39;00m \u001b[38;5;28;43mself\u001b[39;49m\u001b[38;5;241;43m.\u001b[39;49m\u001b[43m_cmp_method\u001b[49m\u001b[43m(\u001b[49m\u001b[43mother\u001b[49m\u001b[43m,\u001b[49m\u001b[43m \u001b[49m\u001b[43moperator\u001b[49m\u001b[38;5;241;43m.\u001b[39;49m\u001b[43mlt\u001b[49m\u001b[43m)\u001b[49m\n",
      "File \u001b[1;32m~\\miniconda3\\lib\\site-packages\\pandas\\core\\series.py:5623\u001b[0m, in \u001b[0;36mSeries._cmp_method\u001b[1;34m(self, other, op)\u001b[0m\n\u001b[0;32m   5620\u001b[0m rvalues \u001b[38;5;241m=\u001b[39m extract_array(other, extract_numpy\u001b[38;5;241m=\u001b[39m\u001b[38;5;28;01mTrue\u001b[39;00m, extract_range\u001b[38;5;241m=\u001b[39m\u001b[38;5;28;01mTrue\u001b[39;00m)\n\u001b[0;32m   5622\u001b[0m \u001b[38;5;28;01mwith\u001b[39;00m np\u001b[38;5;241m.\u001b[39merrstate(\u001b[38;5;28mall\u001b[39m\u001b[38;5;241m=\u001b[39m\u001b[38;5;124m\"\u001b[39m\u001b[38;5;124mignore\u001b[39m\u001b[38;5;124m\"\u001b[39m):\n\u001b[1;32m-> 5623\u001b[0m     res_values \u001b[38;5;241m=\u001b[39m \u001b[43mops\u001b[49m\u001b[38;5;241;43m.\u001b[39;49m\u001b[43mcomparison_op\u001b[49m\u001b[43m(\u001b[49m\u001b[43mlvalues\u001b[49m\u001b[43m,\u001b[49m\u001b[43m \u001b[49m\u001b[43mrvalues\u001b[49m\u001b[43m,\u001b[49m\u001b[43m \u001b[49m\u001b[43mop\u001b[49m\u001b[43m)\u001b[49m\n\u001b[0;32m   5625\u001b[0m \u001b[38;5;28;01mreturn\u001b[39;00m \u001b[38;5;28mself\u001b[39m\u001b[38;5;241m.\u001b[39m_construct_result(res_values, name\u001b[38;5;241m=\u001b[39mres_name)\n",
      "File \u001b[1;32m~\\miniconda3\\lib\\site-packages\\pandas\\core\\ops\\array_ops.py:269\u001b[0m, in \u001b[0;36mcomparison_op\u001b[1;34m(left, right, op)\u001b[0m\n\u001b[0;32m    260\u001b[0m         \u001b[38;5;28;01mraise\u001b[39;00m \u001b[38;5;167;01mValueError\u001b[39;00m(\n\u001b[0;32m    261\u001b[0m             \u001b[38;5;124m\"\u001b[39m\u001b[38;5;124mLengths must match to compare\u001b[39m\u001b[38;5;124m\"\u001b[39m, lvalues\u001b[38;5;241m.\u001b[39mshape, rvalues\u001b[38;5;241m.\u001b[39mshape\n\u001b[0;32m    262\u001b[0m         )\n\u001b[0;32m    264\u001b[0m \u001b[38;5;28;01mif\u001b[39;00m should_extension_dispatch(lvalues, rvalues) \u001b[38;5;129;01mor\u001b[39;00m (\n\u001b[0;32m    265\u001b[0m     (\u001b[38;5;28misinstance\u001b[39m(rvalues, (Timedelta, BaseOffset, Timestamp)) \u001b[38;5;129;01mor\u001b[39;00m right \u001b[38;5;129;01mis\u001b[39;00m NaT)\n\u001b[0;32m    266\u001b[0m     \u001b[38;5;129;01mand\u001b[39;00m \u001b[38;5;129;01mnot\u001b[39;00m is_object_dtype(lvalues\u001b[38;5;241m.\u001b[39mdtype)\n\u001b[0;32m    267\u001b[0m ):\n\u001b[0;32m    268\u001b[0m     \u001b[38;5;66;03m# Call the method on lvalues\u001b[39;00m\n\u001b[1;32m--> 269\u001b[0m     res_values \u001b[38;5;241m=\u001b[39m \u001b[43mop\u001b[49m\u001b[43m(\u001b[49m\u001b[43mlvalues\u001b[49m\u001b[43m,\u001b[49m\u001b[43m \u001b[49m\u001b[43mrvalues\u001b[49m\u001b[43m)\u001b[49m\n\u001b[0;32m    271\u001b[0m \u001b[38;5;28;01melif\u001b[39;00m is_scalar(rvalues) \u001b[38;5;129;01mand\u001b[39;00m isna(rvalues):  \u001b[38;5;66;03m# TODO: but not pd.NA?\u001b[39;00m\n\u001b[0;32m    272\u001b[0m     \u001b[38;5;66;03m# numpy does not like comparisons vs None\u001b[39;00m\n\u001b[0;32m    273\u001b[0m     \u001b[38;5;28;01mif\u001b[39;00m op \u001b[38;5;129;01mis\u001b[39;00m operator\u001b[38;5;241m.\u001b[39mne:\n",
      "File \u001b[1;32m~\\miniconda3\\lib\\site-packages\\pandas\\core\\ops\\common.py:70\u001b[0m, in \u001b[0;36m_unpack_zerodim_and_defer.<locals>.new_method\u001b[1;34m(self, other)\u001b[0m\n\u001b[0;32m     66\u001b[0m             \u001b[38;5;28;01mreturn\u001b[39;00m \u001b[38;5;28mNotImplemented\u001b[39m\n\u001b[0;32m     68\u001b[0m other \u001b[38;5;241m=\u001b[39m item_from_zerodim(other)\n\u001b[1;32m---> 70\u001b[0m \u001b[38;5;28;01mreturn\u001b[39;00m \u001b[43mmethod\u001b[49m\u001b[43m(\u001b[49m\u001b[38;5;28;43mself\u001b[39;49m\u001b[43m,\u001b[49m\u001b[43m \u001b[49m\u001b[43mother\u001b[49m\u001b[43m)\u001b[49m\n",
      "File \u001b[1;32m~\\miniconda3\\lib\\site-packages\\pandas\\core\\arrays\\categorical.py:179\u001b[0m, in \u001b[0;36m_cat_compare_op.<locals>.func\u001b[1;34m(self, other)\u001b[0m\n\u001b[0;32m    177\u001b[0m         \u001b[38;5;28;01mreturn\u001b[39;00m ret\n\u001b[0;32m    178\u001b[0m     \u001b[38;5;28;01melse\u001b[39;00m:\n\u001b[1;32m--> 179\u001b[0m         \u001b[38;5;28;01mreturn\u001b[39;00m \u001b[43mops\u001b[49m\u001b[38;5;241;43m.\u001b[39;49m\u001b[43minvalid_comparison\u001b[49m\u001b[43m(\u001b[49m\u001b[38;5;28;43mself\u001b[39;49m\u001b[43m,\u001b[49m\u001b[43m \u001b[49m\u001b[43mother\u001b[49m\u001b[43m,\u001b[49m\u001b[43m \u001b[49m\u001b[43mop\u001b[49m\u001b[43m)\u001b[49m\n\u001b[0;32m    180\u001b[0m \u001b[38;5;28;01melse\u001b[39;00m:\n\u001b[0;32m    181\u001b[0m     \u001b[38;5;66;03m# allow categorical vs object dtype array comparisons for equality\u001b[39;00m\n\u001b[0;32m    182\u001b[0m     \u001b[38;5;66;03m# these are only positional comparisons\u001b[39;00m\n\u001b[0;32m    183\u001b[0m     \u001b[38;5;28;01mif\u001b[39;00m opname \u001b[38;5;129;01mnot\u001b[39;00m \u001b[38;5;129;01min\u001b[39;00m [\u001b[38;5;124m\"\u001b[39m\u001b[38;5;124m__eq__\u001b[39m\u001b[38;5;124m\"\u001b[39m, \u001b[38;5;124m\"\u001b[39m\u001b[38;5;124m__ne__\u001b[39m\u001b[38;5;124m\"\u001b[39m]:\n",
      "File \u001b[1;32m~\\miniconda3\\lib\\site-packages\\pandas\\core\\ops\\invalid.py:34\u001b[0m, in \u001b[0;36minvalid_comparison\u001b[1;34m(left, right, op)\u001b[0m\n\u001b[0;32m     32\u001b[0m \u001b[38;5;28;01melse\u001b[39;00m:\n\u001b[0;32m     33\u001b[0m     typ \u001b[38;5;241m=\u001b[39m \u001b[38;5;28mtype\u001b[39m(right)\u001b[38;5;241m.\u001b[39m\u001b[38;5;18m__name__\u001b[39m\n\u001b[1;32m---> 34\u001b[0m     \u001b[38;5;28;01mraise\u001b[39;00m \u001b[38;5;167;01mTypeError\u001b[39;00m(\u001b[38;5;124mf\u001b[39m\u001b[38;5;124m\"\u001b[39m\u001b[38;5;124mInvalid comparison between dtype=\u001b[39m\u001b[38;5;132;01m{\u001b[39;00mleft\u001b[38;5;241m.\u001b[39mdtype\u001b[38;5;132;01m}\u001b[39;00m\u001b[38;5;124m and \u001b[39m\u001b[38;5;132;01m{\u001b[39;00mtyp\u001b[38;5;132;01m}\u001b[39;00m\u001b[38;5;124m\"\u001b[39m)\n\u001b[0;32m     35\u001b[0m \u001b[38;5;28;01mreturn\u001b[39;00m res_values\n",
      "\u001b[1;31mTypeError\u001b[0m: Invalid comparison between dtype=category and int"
     ]
    }
   ],
   "source": [
    "# Partimos de valores menores de 200 euros porque a partie de ahí estaba plagado \n",
    "# de posibles outliers que nos mostraban una gráfica de difícil lectura\n",
    "sns.histplot(data=df[df[\"price\"]< 200], x=\"price\", kde=True)"
   ]
  },
  {
   "cell_type": "markdown",
   "id": "94b8e78f",
   "metadata": {},
   "source": [
    "<h5>Se aprecia que la mayoría de alojamientos cuestan alrededor de 50 euros </h5>"
   ]
  },
  {
   "cell_type": "code",
   "execution_count": null,
   "id": "4712688f",
   "metadata": {
    "scrolled": true
   },
   "outputs": [],
   "source": [
    "# Comparación de tipos de alojamiento predominantes en los barrios \n",
    "sns.catplot(x =\"neighbourhood\", hue =\"room_type\", kind =\"count\", data = df, aspect=2, height=10)\n",
    "plt.xticks(rotation=90)"
   ]
  },
  {
   "cell_type": "markdown",
   "id": "2bd35fd7",
   "metadata": {},
   "source": [
    "<h5>El naranja de Entire home/apt predomina en la gráfica y también se puede ver que los barrios con más alojamientos son: Buenos Aires - Venezia, Duomo y Navigli, \"casualmente\" en el centro de la ciudad. Los barrios con menos alojamientos se situan a las afueras de la ciudad como por ejemplo en: Cascina Triulza - Expo. El segundo tipo de alojamiento más habitual es Private room </h5>"
   ]
  },
  {
   "cell_type": "code",
   "execution_count": null,
   "id": "41cee61f",
   "metadata": {},
   "outputs": [],
   "source": [
    "# El método .corr() nos muestra una tabla de correlaciones en el dataset para las variables continuas\n",
    "# La diagonal siempre es 1 porque cada variable correlaciona en 1 consigo misma, evidentemente\n",
    "df.corr()"
   ]
  },
  {
   "cell_type": "code",
   "execution_count": null,
   "id": "da5fd2f4",
   "metadata": {},
   "outputs": [],
   "source": [
    "# A partir de la tabla de correlación, obtenemos el mapa de calor \n",
    "sns.heatmap(df.corr(), vmin=-1., vmax=1., annot=True)"
   ]
  },
  {
   "cell_type": "code",
   "execution_count": null,
   "id": "c2965176",
   "metadata": {},
   "outputs": [],
   "source": [
    "# Ahora igual pero más bonito\n",
    "\n",
    "# Generamos una máscara para no duplicar lops valores\n",
    "mask = np.triu(np.ones_like(df.corr(), dtype=bool))\n",
    "\n",
    "# Configuramos el matplotlib\n",
    "f, ax = plt.subplots(figsize=(11, 9))\n",
    "\n",
    "# Ploteamos el heatmap\n",
    "sns.heatmap(df.corr(), mask=mask, vmax=1., vmin=-1., center=0,\n",
    "            square=True, linewidths=.5, cbar_kws={\"shrink\": .5}, annot=True)"
   ]
  },
  {
   "cell_type": "markdown",
   "id": "5b199cb4",
   "metadata": {},
   "source": [
    "<h5>Comos se puede apreciar en esta última tabla y estos 2 gráficos, apenas existe correlación entre estas variables salvo entre numbers_of_reviews y reviews_per_month </h5>"
   ]
  },
  {
   "cell_type": "markdown",
   "id": "6c273337",
   "metadata": {},
   "source": [
    "<h2>Ingeniería de características<h2/>"
   ]
  },
  {
   "cell_type": "markdown",
   "id": "e8db63c8",
   "metadata": {},
   "source": [
    "<h3>Imputación de valores perdidos<h3/>"
   ]
  },
  {
   "cell_type": "code",
   "execution_count": null,
   "id": "b256471a",
   "metadata": {},
   "outputs": [],
   "source": [
    "# Comprobamos el porcentaje de valores perdidos para cada caso\n",
    "ultimas_reviews_perdidas = df[\"last_review\"].isnull().sum() / len(df[\"last_review\"])\n",
    "numero_reviews_perdidas = df[\"reviews_per_month\"].isnull().sum() / len(df[\"reviews_per_month\"])\n",
    "\n",
    "print(f\"Porcentaje de valores perdidos en Last_Reviews: {round(ultimas_reviews_perdidas*100, 2)}%\")\n",
    "print(f\"Porcentaje de valores perdidos en Numero_de_reviews: {round(numero_reviews_perdidas*100, 2)}%\")"
   ]
  },
  {
   "cell_type": "markdown",
   "id": "f55adb5a",
   "metadata": {},
   "source": [
    "<h5>Se observan un 27,63% de datos perdidos tanto en last_review como en reviews_per_month, valores que sustituiremos por la moda.<h5/>"
   ]
  },
  {
   "cell_type": "code",
   "execution_count": null,
   "id": "7f1920c8",
   "metadata": {},
   "outputs": [],
   "source": [
    "#Obtención de la moda y sustitución de valores perdidos por la moda\n",
    "last_review_mode = df[\"last_review\"].mode()[0]\n",
    "df[\"last_review\"].fillna(last_review_mode, inplace=True) "
   ]
  },
  {
   "cell_type": "code",
   "execution_count": null,
   "id": "7d059b3e",
   "metadata": {},
   "outputs": [],
   "source": [
    "reviews_por_noche_mode = df[\"reviews_per_month\"].mode()[0]\n",
    "df[\"reviews_per_month\"].fillna(reviews_por_noche_mode, inplace=True) \n"
   ]
  },
  {
   "cell_type": "code",
   "execution_count": null,
   "id": "648a942c",
   "metadata": {},
   "outputs": [],
   "source": [
    "#Verificación de datos perdidos\n",
    "df.isnull().sum()"
   ]
  },
  {
   "cell_type": "markdown",
   "id": "cb81a2ad",
   "metadata": {},
   "source": [
    "<h5>Como se ve, ya no hay datos perdidos porque se han sustituido por la moda.<h5/>"
   ]
  },
  {
   "cell_type": "markdown",
   "id": "ee17a96c",
   "metadata": {},
   "source": [
    "<h3>Detección de outliers<h3/>"
   ]
  },
  {
   "cell_type": "markdown",
   "id": "4403d495",
   "metadata": {},
   "source": [
    "<h5>Un outlier es un valor anómalo. Un valor puede ser anómalo por diversas circunstancias: errores al anotar un dato, malfuncionamiento de un sensor, circunstancias especiales, etc.<h5/>"
   ]
  },
  {
   "cell_type": "code",
   "execution_count": null,
   "id": "afed0d77",
   "metadata": {},
   "outputs": [],
   "source": [
    "#Verificación de viviendas con precio por debajo de 2500\n",
    "df[(df[\"price\"]< 2500)].value_counts().sum()"
   ]
  },
  {
   "cell_type": "code",
   "execution_count": null,
   "id": "099b3880",
   "metadata": {},
   "outputs": [],
   "source": [
    "df[(df[\"price\"]>= 2500)].value_counts().sum()"
   ]
  },
  {
   "cell_type": "markdown",
   "id": "a093deb1",
   "metadata": {},
   "source": [
    "<h5>La gran mayoría de valores del precio están por debjo de 2500 euros. Solo 26 viviendas tienen un precio por encima de 2500<h5/>"
   ]
  },
  {
   "cell_type": "code",
   "execution_count": null,
   "id": "199de01c",
   "metadata": {
    "scrolled": true
   },
   "outputs": [],
   "source": [
    "# Obtener nuevo DataFrame con las entradas cuyo precio es menor a 2500\n",
    "price_clean = df[(df[\"price\"] < 2500)]\n"
   ]
  },
  {
   "cell_type": "code",
   "execution_count": null,
   "id": "21cfcad3",
   "metadata": {
    "scrolled": true
   },
   "outputs": [],
   "source": [
    "#Relacion entre number_of_reviews y reviews_per_month\n",
    "sns.scatterplot(data=price_clean[(price_clean[\"price\"]< 800)], x=\"number_of_reviews\", y=\"reviews_per_month\", hue=\"price\")\n",
    "df.info()\n"
   ]
  },
  {
   "cell_type": "code",
   "execution_count": null,
   "id": "5312c6a3",
   "metadata": {},
   "outputs": [],
   "source": [
    "#Categorizo la variable numerica de precios en rangos de precios (bins)\n",
    "bins = [0,300,500,1000,2000,3300]\n",
    "names = ['0-300','301-500',\"501-1000\",\"1001-2000\",\"2001-3300\"]\n",
    "df[\"price\"] = pd.cut(df[\"price\"], bins, labels = names)\n",
    "df.iloc[:, [1,5]]\n",
    "\n",
    "\n"
   ]
  },
  {
   "cell_type": "code",
   "execution_count": null,
   "id": "356433df",
   "metadata": {},
   "outputs": [],
   "source": [
    "sns.displot(x=\"country\" , y=\"price\", data=df, height = 3, aspect = 5)\n",
    "plt.grid(axis='x')\n",
    "plt.xticks(rotation=90)\n",
    "plt.show()"
   ]
  },
  {
   "cell_type": "code",
   "execution_count": null,
   "id": "a6e871ab",
   "metadata": {},
   "outputs": [],
   "source": [
    "sns.boxplot(x= df[(df[\"price\"]< 140)][\"price\"])"
   ]
  },
  {
   "cell_type": "code",
   "execution_count": null,
   "id": "fb09eee3",
   "metadata": {},
   "outputs": [],
   "source": [
    "# Cantidad de entradas que quedan fuera\n",
    "len(df[df[\"price\"]>=140])"
   ]
  },
  {
   "cell_type": "code",
   "execution_count": null,
   "id": "24ae9955",
   "metadata": {},
   "outputs": [],
   "source": [
    "sns.histplot(data=df[df[\"price\"]< 140], x=\"price\", kde=True)\n"
   ]
  },
  {
   "cell_type": "code",
   "execution_count": null,
   "id": "22697103",
   "metadata": {},
   "outputs": [],
   "source": [
    "df = df[df[\"price\"]< 140]\n",
    "sns.histplot(data=df, x=\"price\", kde=True)\n",
    "df.info()"
   ]
  },
  {
   "cell_type": "code",
   "execution_count": null,
   "id": "65a59a86",
   "metadata": {},
   "outputs": [],
   "source": []
  },
  {
   "cell_type": "code",
   "execution_count": null,
   "id": "8b9dc6c1",
   "metadata": {},
   "outputs": [],
   "source": [
    "# Observamos los outlyers de las variable snumericas\n",
    "sns.boxplot(data=df)"
   ]
  },
  {
   "cell_type": "code",
   "execution_count": null,
   "id": "0ec03556",
   "metadata": {},
   "outputs": [],
   "source": [
    "#Analizamos los outlayer de la variable minimum_nights\n",
    "sns.boxplot(x=df[\"minimum_nights\"])\n"
   ]
  },
  {
   "cell_type": "code",
   "execution_count": null,
   "id": "31587106",
   "metadata": {
    "scrolled": false
   },
   "outputs": [],
   "source": [
    "sns.boxplot(x= df[(df[\"minimum_nights\"]< 4 )][\"minimum_nights\"])\n"
   ]
  },
  {
   "cell_type": "code",
   "execution_count": null,
   "id": "b8e3c4f3",
   "metadata": {},
   "outputs": [],
   "source": [
    "#Comprobar cuantos valores perdemos si nos quedamos con minimum_night menor a 4\n",
    "len(df[df[\"minimum_nights\"]>=4])\n",
    "#Eliminamos datos de minimum_nights mayores a 4\n",
    "df = df[df[\"minimum_nights\"] < 4 ]\n",
    "#Smuestra nuevamente el grafico, con los valores eliminados\n",
    "sns.boxplot(x=df[\"minimum_nights\"])\n"
   ]
  },
  {
   "cell_type": "code",
   "execution_count": null,
   "id": "bab6f038",
   "metadata": {},
   "outputs": [],
   "source": [
    "sns.histplot(data=df, x=\"minimum_nights\", kde=True )"
   ]
  },
  {
   "cell_type": "code",
   "execution_count": null,
   "id": "2a6d6c61",
   "metadata": {
    "scrolled": true
   },
   "outputs": [],
   "source": [
    "# Analizamos graficos de variable number_of_reviews\n",
    "sns.histplot(data=df, x=\"number_of_reviews\", kde=True )"
   ]
  },
  {
   "cell_type": "code",
   "execution_count": null,
   "id": "1ba8797e",
   "metadata": {
    "scrolled": true
   },
   "outputs": [],
   "source": [
    "sns.boxplot(data = df, x =\"number_of_reviews\")"
   ]
  },
  {
   "cell_type": "code",
   "execution_count": null,
   "id": "126d6798",
   "metadata": {},
   "outputs": [],
   "source": [
    "sns.boxplot(x= df[(df[\"number_of_reviews\"]< 25 )][\"number_of_reviews\"])\n"
   ]
  },
  {
   "cell_type": "code",
   "execution_count": null,
   "id": "33eb2612",
   "metadata": {},
   "outputs": [],
   "source": [
    "sns.histplot(data= df[(df[\"number_of_reviews\"]< 50 )], x=\"number_of_reviews\", kde=True )"
   ]
  },
  {
   "cell_type": "code",
   "execution_count": null,
   "id": "c2d06e16",
   "metadata": {},
   "outputs": [],
   "source": [
    "df = df[df[\"number_of_reviews\"] < 50 ]\n",
    "sns.boxplot(data = df, x =\"number_of_reviews\")"
   ]
  },
  {
   "cell_type": "code",
   "execution_count": null,
   "id": "27a6b70f",
   "metadata": {
    "scrolled": true
   },
   "outputs": [],
   "source": [
    "# Analizamos graficos de variable number_of_reviews\n",
    "sns.histplot(data=df[df[\"reviews_per_month\"] < 3 ], x=\"reviews_per_month\", kde=True )\n"
   ]
  },
  {
   "cell_type": "code",
   "execution_count": null,
   "id": "967a42df",
   "metadata": {},
   "outputs": [],
   "source": [
    "sns.boxplot(data = df, x =\"reviews_per_month\")"
   ]
  },
  {
   "cell_type": "code",
   "execution_count": null,
   "id": "d2e40431",
   "metadata": {},
   "outputs": [],
   "source": [
    "#Categorizo la variable numerica de precios en rangos de precios (bins)\n",
    "bins = [0,300,500,1000,2000,3300]\n",
    "names = ['0-300','301-500',\"501-1000\",\"1001-2000\",\"2001-3300\"]\n",
    "df[\"price\"] = pd.cut(df[\"price\"], bins, labels = names)"
   ]
  },
  {
   "cell_type": "code",
   "execution_count": null,
   "id": "b587150b",
   "metadata": {},
   "outputs": [],
   "source": [
    "sns.scatterplot(data=df, x=\"price\", y=\"neighbourhood\", hue=\"price\")\n",
    "plt.figure(figsize=(15,6))\n",
    "sns.scatterplot(data = df, x= 'neighbourhood', y ='price')"
   ]
  }
 ],
 "metadata": {
  "kernelspec": {
   "display_name": "Python 3 (ipykernel)",
   "language": "python",
   "name": "python3"
  },
  "language_info": {
   "codemirror_mode": {
    "name": "ipython",
    "version": 3
   },
   "file_extension": ".py",
   "mimetype": "text/x-python",
   "name": "python",
   "nbconvert_exporter": "python",
   "pygments_lexer": "ipython3",
   "version": "3.9.12"
  }
 },
 "nbformat": 4,
 "nbformat_minor": 5
}
